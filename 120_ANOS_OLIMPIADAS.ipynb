{
  "nbformat": 4,
  "nbformat_minor": 0,
  "metadata": {
    "colab": {
      "provenance": [],
      "authorship_tag": "ABX9TyOu0htj5QxKZUqrF6TdNaqI",
      "include_colab_link": true
    },
    "kernelspec": {
      "name": "python3",
      "display_name": "Python 3"
    },
    "language_info": {
      "name": "python"
    }
  },
  "cells": [
    {
      "cell_type": "markdown",
      "metadata": {
        "id": "view-in-github",
        "colab_type": "text"
      },
      "source": [
        "<a href=\"https://colab.research.google.com/github/rafaelkashira23/Projeto-Do-ETL-ao-Machine-Learning---120-anos-de-Olimpiadas---Impacta-Tecnologia/blob/main/120_ANOS_OLIMPIADAS.ipynb\" target=\"_parent\"><img src=\"https://colab.research.google.com/assets/colab-badge.svg\" alt=\"Open In Colab\"/></a>"
      ]
    },
    {
      "cell_type": "code",
      "execution_count": null,
      "metadata": {
        "id": "6b_RbDZJzElJ"
      },
      "outputs": [],
      "source": [
        "import pandas as pd"
      ]
    },
    {
      "cell_type": "markdown",
      "source": [
        "Importação de dados e unificação de tabelas"
      ],
      "metadata": {
        "id": "jjSoaDaa0Pnb"
      }
    },
    {
      "cell_type": "code",
      "source": [
        "atleta = pd.read_csv('athlete_events.csv', sep=',', encoding=\"UTF-8\")"
      ],
      "metadata": {
        "id": "UbqK6bpqza0X"
      },
      "execution_count": null,
      "outputs": []
    },
    {
      "cell_type": "code",
      "source": [
        "regiao = pd.read_csv('noc_regions.csv', sep=',', encoding=\"UTF-8\")"
      ],
      "metadata": {
        "id": "8GGz3doSz8qG"
      },
      "execution_count": null,
      "outputs": []
    },
    {
      "cell_type": "code",
      "source": [
        "olim = pd.merge(atleta, regiao, on='NOC', how='left')"
      ],
      "metadata": {
        "id": "mIlRJ5jq0H9U"
      },
      "execution_count": null,
      "outputs": []
    },
    {
      "cell_type": "code",
      "source": [
        "#Renomeando as colunas\n",
        "olim.columns"
      ],
      "metadata": {
        "id": "ZCwmxepp0mmQ",
        "colab": {
          "base_uri": "https://localhost:8080/"
        },
        "outputId": "ee8b37a1-bcff-47a2-e8d6-54ce86e4619c"
      },
      "execution_count": null,
      "outputs": [
        {
          "output_type": "execute_result",
          "data": {
            "text/plain": [
              "Index(['ID', 'Name', 'Sex', 'Age', 'Height', 'Weight', 'Team', 'NOC', 'Games',\n",
              "       'Year', 'Season', 'City', 'Sport', 'Event', 'Medal', 'region', 'notes'],\n",
              "      dtype='object')"
            ]
          },
          "metadata": {},
          "execution_count": 10
        }
      ]
    },
    {
      "cell_type": "code",
      "source": [
        "olim = olim.rename(columns={'Name':'Nome', 'Sex':'Sexo', 'Age':'Idade', 'Height':'Altura', 'Weight':'Peso', 'Team':'Time', 'NOC':'Sigla_pais', 'Games':'Jogo',\n",
        "       'Year':'Ano', 'Season':'Temporada', 'City':'cidade', 'Sport':'Esporte', 'Event':'Evento', 'Medal':'Medalha', 'region':'Pais', 'notes':'Obs'})"
      ],
      "metadata": {
        "id": "L2-M28Yf0_pz"
      },
      "execution_count": null,
      "outputs": []
    },
    {
      "cell_type": "code",
      "source": [
        "olim.head(1)"
      ],
      "metadata": {
        "id": "l6xv8f1X5DJi",
        "colab": {
          "base_uri": "https://localhost:8080/",
          "height": 98
        },
        "outputId": "2af15697-9056-4b7d-ff3f-9fe3dce2aedb"
      },
      "execution_count": null,
      "outputs": [
        {
          "output_type": "execute_result",
          "data": {
            "text/plain": [
              "   ID       Nome Sexo  Idade  Altura  Peso   Time Sigla_pais         Jogo  \\\n",
              "0   1  A Dijiang    M   24.0   180.0  80.0  China        CHN  1992 Summer   \n",
              "\n",
              "    Ano Temporada     cidade     Esporte                       Evento Medalha  \\\n",
              "0  1992    Summer  Barcelona  Basketball  Basketball Men's Basketball     NaN   \n",
              "\n",
              "    Pais  Obs  \n",
              "0  China  NaN  "
            ],
            "text/html": [
              "\n",
              "  <div id=\"df-61927d2d-1e8b-403c-afed-1663312741cc\" class=\"colab-df-container\">\n",
              "    <div>\n",
              "<style scoped>\n",
              "    .dataframe tbody tr th:only-of-type {\n",
              "        vertical-align: middle;\n",
              "    }\n",
              "\n",
              "    .dataframe tbody tr th {\n",
              "        vertical-align: top;\n",
              "    }\n",
              "\n",
              "    .dataframe thead th {\n",
              "        text-align: right;\n",
              "    }\n",
              "</style>\n",
              "<table border=\"1\" class=\"dataframe\">\n",
              "  <thead>\n",
              "    <tr style=\"text-align: right;\">\n",
              "      <th></th>\n",
              "      <th>ID</th>\n",
              "      <th>Nome</th>\n",
              "      <th>Sexo</th>\n",
              "      <th>Idade</th>\n",
              "      <th>Altura</th>\n",
              "      <th>Peso</th>\n",
              "      <th>Time</th>\n",
              "      <th>Sigla_pais</th>\n",
              "      <th>Jogo</th>\n",
              "      <th>Ano</th>\n",
              "      <th>Temporada</th>\n",
              "      <th>cidade</th>\n",
              "      <th>Esporte</th>\n",
              "      <th>Evento</th>\n",
              "      <th>Medalha</th>\n",
              "      <th>Pais</th>\n",
              "      <th>Obs</th>\n",
              "    </tr>\n",
              "  </thead>\n",
              "  <tbody>\n",
              "    <tr>\n",
              "      <th>0</th>\n",
              "      <td>1</td>\n",
              "      <td>A Dijiang</td>\n",
              "      <td>M</td>\n",
              "      <td>24.0</td>\n",
              "      <td>180.0</td>\n",
              "      <td>80.0</td>\n",
              "      <td>China</td>\n",
              "      <td>CHN</td>\n",
              "      <td>1992 Summer</td>\n",
              "      <td>1992</td>\n",
              "      <td>Summer</td>\n",
              "      <td>Barcelona</td>\n",
              "      <td>Basketball</td>\n",
              "      <td>Basketball Men's Basketball</td>\n",
              "      <td>NaN</td>\n",
              "      <td>China</td>\n",
              "      <td>NaN</td>\n",
              "    </tr>\n",
              "  </tbody>\n",
              "</table>\n",
              "</div>\n",
              "    <div class=\"colab-df-buttons\">\n",
              "\n",
              "  <div class=\"colab-df-container\">\n",
              "    <button class=\"colab-df-convert\" onclick=\"convertToInteractive('df-61927d2d-1e8b-403c-afed-1663312741cc')\"\n",
              "            title=\"Convert this dataframe to an interactive table.\"\n",
              "            style=\"display:none;\">\n",
              "\n",
              "  <svg xmlns=\"http://www.w3.org/2000/svg\" height=\"24px\" viewBox=\"0 -960 960 960\">\n",
              "    <path d=\"M120-120v-720h720v720H120Zm60-500h600v-160H180v160Zm220 220h160v-160H400v160Zm0 220h160v-160H400v160ZM180-400h160v-160H180v160Zm440 0h160v-160H620v160ZM180-180h160v-160H180v160Zm440 0h160v-160H620v160Z\"/>\n",
              "  </svg>\n",
              "    </button>\n",
              "\n",
              "  <style>\n",
              "    .colab-df-container {\n",
              "      display:flex;\n",
              "      gap: 12px;\n",
              "    }\n",
              "\n",
              "    .colab-df-convert {\n",
              "      background-color: #E8F0FE;\n",
              "      border: none;\n",
              "      border-radius: 50%;\n",
              "      cursor: pointer;\n",
              "      display: none;\n",
              "      fill: #1967D2;\n",
              "      height: 32px;\n",
              "      padding: 0 0 0 0;\n",
              "      width: 32px;\n",
              "    }\n",
              "\n",
              "    .colab-df-convert:hover {\n",
              "      background-color: #E2EBFA;\n",
              "      box-shadow: 0px 1px 2px rgba(60, 64, 67, 0.3), 0px 1px 3px 1px rgba(60, 64, 67, 0.15);\n",
              "      fill: #174EA6;\n",
              "    }\n",
              "\n",
              "    .colab-df-buttons div {\n",
              "      margin-bottom: 4px;\n",
              "    }\n",
              "\n",
              "    [theme=dark] .colab-df-convert {\n",
              "      background-color: #3B4455;\n",
              "      fill: #D2E3FC;\n",
              "    }\n",
              "\n",
              "    [theme=dark] .colab-df-convert:hover {\n",
              "      background-color: #434B5C;\n",
              "      box-shadow: 0px 1px 3px 1px rgba(0, 0, 0, 0.15);\n",
              "      filter: drop-shadow(0px 1px 2px rgba(0, 0, 0, 0.3));\n",
              "      fill: #FFFFFF;\n",
              "    }\n",
              "  </style>\n",
              "\n",
              "    <script>\n",
              "      const buttonEl =\n",
              "        document.querySelector('#df-61927d2d-1e8b-403c-afed-1663312741cc button.colab-df-convert');\n",
              "      buttonEl.style.display =\n",
              "        google.colab.kernel.accessAllowed ? 'block' : 'none';\n",
              "\n",
              "      async function convertToInteractive(key) {\n",
              "        const element = document.querySelector('#df-61927d2d-1e8b-403c-afed-1663312741cc');\n",
              "        const dataTable =\n",
              "          await google.colab.kernel.invokeFunction('convertToInteractive',\n",
              "                                                    [key], {});\n",
              "        if (!dataTable) return;\n",
              "\n",
              "        const docLinkHtml = 'Like what you see? Visit the ' +\n",
              "          '<a target=\"_blank\" href=https://colab.research.google.com/notebooks/data_table.ipynb>data table notebook</a>'\n",
              "          + ' to learn more about interactive tables.';\n",
              "        element.innerHTML = '';\n",
              "        dataTable['output_type'] = 'display_data';\n",
              "        await google.colab.output.renderOutput(dataTable, element);\n",
              "        const docLink = document.createElement('div');\n",
              "        docLink.innerHTML = docLinkHtml;\n",
              "        element.appendChild(docLink);\n",
              "      }\n",
              "    </script>\n",
              "  </div>\n",
              "\n",
              "\n",
              "    </div>\n",
              "  </div>\n"
            ]
          },
          "metadata": {},
          "execution_count": 12
        }
      ]
    },
    {
      "cell_type": "code",
      "source": [
        "olim = olim.rename(columns={'Sigla_pais':'Sigla'})"
      ],
      "metadata": {
        "id": "tRylsQjX5Poa"
      },
      "execution_count": null,
      "outputs": []
    },
    {
      "cell_type": "markdown",
      "source": [
        "REMOVENDO DUPLICIDADES"
      ],
      "metadata": {
        "id": "sADlLEzU6Rby"
      }
    },
    {
      "cell_type": "code",
      "source": [
        "olim.shape"
      ],
      "metadata": {
        "id": "9SruF9Xl6IkY",
        "colab": {
          "base_uri": "https://localhost:8080/"
        },
        "outputId": "91bb3256-a9b5-4439-ea05-cdd2cf5b389c"
      },
      "execution_count": null,
      "outputs": [
        {
          "output_type": "execute_result",
          "data": {
            "text/plain": [
              "(271116, 17)"
            ]
          },
          "metadata": {},
          "execution_count": 14
        }
      ]
    },
    {
      "cell_type": "code",
      "source": [
        "olim = olim.drop_duplicates()"
      ],
      "metadata": {
        "id": "NfjTE5kI7Mg5"
      },
      "execution_count": null,
      "outputs": []
    },
    {
      "cell_type": "code",
      "source": [
        "olim.shape"
      ],
      "metadata": {
        "id": "RDQSQDdn7TBR",
        "colab": {
          "base_uri": "https://localhost:8080/"
        },
        "outputId": "3b88bd77-60ba-436a-d385-4b9dd7098ddc"
      },
      "execution_count": null,
      "outputs": [
        {
          "output_type": "execute_result",
          "data": {
            "text/plain": [
              "(269731, 17)"
            ]
          },
          "metadata": {},
          "execution_count": 16
        }
      ]
    },
    {
      "cell_type": "markdown",
      "source": [
        "REMOVENDO DADOS NULOS"
      ],
      "metadata": {
        "id": "Nfc3avpF7hZj"
      }
    },
    {
      "cell_type": "code",
      "source": [
        "olim.isnull().any()"
      ],
      "metadata": {
        "id": "kzXagOIC7Uok",
        "colab": {
          "base_uri": "https://localhost:8080/"
        },
        "outputId": "275e0d45-1b5a-4f25-a44e-5323058617d9"
      },
      "execution_count": null,
      "outputs": [
        {
          "output_type": "execute_result",
          "data": {
            "text/plain": [
              "ID           False\n",
              "Nome         False\n",
              "Sexo         False\n",
              "Idade         True\n",
              "Altura        True\n",
              "Peso          True\n",
              "Time         False\n",
              "Sigla        False\n",
              "Jogo         False\n",
              "Ano          False\n",
              "Temporada    False\n",
              "cidade       False\n",
              "Esporte      False\n",
              "Evento       False\n",
              "Medalha       True\n",
              "Pais          True\n",
              "Obs           True\n",
              "dtype: bool"
            ]
          },
          "metadata": {},
          "execution_count": 17
        }
      ]
    },
    {
      "cell_type": "code",
      "source": [
        "olim.isnull().sum()"
      ],
      "metadata": {
        "id": "dQNVfl7A8HHD",
        "colab": {
          "base_uri": "https://localhost:8080/"
        },
        "outputId": "8cd30d1f-0bf5-4d8f-8c0f-8376945ddad4"
      },
      "execution_count": null,
      "outputs": [
        {
          "output_type": "execute_result",
          "data": {
            "text/plain": [
              "ID                0\n",
              "Nome              0\n",
              "Sexo              0\n",
              "Idade          9315\n",
              "Altura        58814\n",
              "Peso          61527\n",
              "Time              0\n",
              "Sigla             0\n",
              "Jogo              0\n",
              "Ano               0\n",
              "Temporada         0\n",
              "cidade            0\n",
              "Esporte           0\n",
              "Evento            0\n",
              "Medalha      229959\n",
              "Pais            370\n",
              "Obs          264696\n",
              "dtype: int64"
            ]
          },
          "metadata": {},
          "execution_count": 18
        }
      ]
    },
    {
      "cell_type": "code",
      "source": [
        "olim = olim.dropna(subset=['Peso'])"
      ],
      "metadata": {
        "id": "Vvw8cjzY9OBE"
      },
      "execution_count": null,
      "outputs": []
    },
    {
      "cell_type": "code",
      "source": [
        "olim = olim.dropna(subset=['Altura'])"
      ],
      "metadata": {
        "id": "DnUr1KVy_lJy"
      },
      "execution_count": null,
      "outputs": []
    },
    {
      "cell_type": "code",
      "source": [
        "olim = olim.dropna(subset=['Idade'])"
      ],
      "metadata": {
        "id": "roaEk5Qn_65j"
      },
      "execution_count": null,
      "outputs": []
    },
    {
      "cell_type": "code",
      "source": [
        "olim.isnull().sum()"
      ],
      "metadata": {
        "id": "4Wwh-1bCAAqF",
        "colab": {
          "base_uri": "https://localhost:8080/"
        },
        "outputId": "9510c0dd-33dd-4e7a-b22a-9ba1644ce866"
      },
      "execution_count": null,
      "outputs": [
        {
          "output_type": "execute_result",
          "data": {
            "text/plain": [
              "ID                0\n",
              "Nome              0\n",
              "Sexo              0\n",
              "Idade             0\n",
              "Altura            0\n",
              "Peso              0\n",
              "Time              0\n",
              "Sigla             0\n",
              "Jogo              0\n",
              "Ano               0\n",
              "Temporada         0\n",
              "cidade            0\n",
              "Esporte           0\n",
              "Evento            0\n",
              "Medalha      175971\n",
              "Pais            270\n",
              "Obs          202659\n",
              "dtype: int64"
            ]
          },
          "metadata": {},
          "execution_count": 22
        }
      ]
    },
    {
      "cell_type": "markdown",
      "source": [
        "EXPLORAÇÃO DOS DADOS"
      ],
      "metadata": {
        "id": "AVjLBpYZDZMv"
      }
    },
    {
      "cell_type": "code",
      "source": [
        "olim['Sexo'].unique()"
      ],
      "metadata": {
        "id": "1l02X4efAEzA",
        "colab": {
          "base_uri": "https://localhost:8080/"
        },
        "outputId": "caca66b8-f271-40a2-9e8c-18684f7e6e4e"
      },
      "execution_count": null,
      "outputs": [
        {
          "output_type": "execute_result",
          "data": {
            "text/plain": [
              "array(['M', 'F'], dtype=object)"
            ]
          },
          "metadata": {},
          "execution_count": 23
        }
      ]
    },
    {
      "cell_type": "code",
      "source": [
        "olim['cidade'].unique()"
      ],
      "metadata": {
        "id": "LXmed1zsLKiU",
        "colab": {
          "base_uri": "https://localhost:8080/"
        },
        "outputId": "596a8f50-c3db-4dac-a22b-d44b71f6eca4"
      },
      "execution_count": null,
      "outputs": [
        {
          "output_type": "execute_result",
          "data": {
            "text/plain": [
              "array(['Barcelona', 'London', 'Calgary', 'Albertville', 'Lillehammer',\n",
              "       'Salt Lake City', 'Lake Placid', 'Sydney', 'Atlanta', 'Sochi',\n",
              "       'Helsinki', 'Nagano', 'Torino', 'Rio de Janeiro', 'Athina',\n",
              "       'Sarajevo', 'Mexico City', 'Munich', 'Berlin', 'Melbourne', 'Roma',\n",
              "       'Antwerpen', 'Paris', 'Amsterdam', 'Beijing', 'Montreal', 'Seoul',\n",
              "       'Moskva', 'Los Angeles', 'Tokyo', 'Vancouver', 'Innsbruck',\n",
              "       'Grenoble', 'Sapporo', 'Chamonix', 'Stockholm',\n",
              "       'Garmisch-Partenkirchen', 'Sankt Moritz', \"Cortina d'Ampezzo\",\n",
              "       'Squaw Valley', 'Oslo', 'St. Louis'], dtype=object)"
            ]
          },
          "metadata": {},
          "execution_count": 25
        }
      ]
    },
    {
      "cell_type": "code",
      "source": [
        "olim['Sexo'].value_counts()"
      ],
      "metadata": {
        "colab": {
          "base_uri": "https://localhost:8080/"
        },
        "id": "GPhb3-NYO2tF",
        "outputId": "9b65c967-d9ba-4a7a-b7b8-8917b83033ef"
      },
      "execution_count": null,
      "outputs": [
        {
          "output_type": "execute_result",
          "data": {
            "text/plain": [
              "M    139441\n",
              "F     66711\n",
              "Name: Sexo, dtype: int64"
            ]
          },
          "metadata": {},
          "execution_count": 26
        }
      ]
    },
    {
      "cell_type": "code",
      "source": [
        "olim['cidade'].value_counts()"
      ],
      "metadata": {
        "colab": {
          "base_uri": "https://localhost:8080/"
        },
        "id": "iHs1mcP6PhBa",
        "outputId": "f1cefbc3-f01f-47e9-8159-1770b9a07eca"
      },
      "execution_count": null,
      "outputs": [
        {
          "output_type": "execute_result",
          "data": {
            "text/plain": [
              "London                    13803\n",
              "Sydney                    13682\n",
              "Athina                    13640\n",
              "Rio de Janeiro            13443\n",
              "Beijing                   13402\n",
              "Atlanta                   11838\n",
              "Seoul                     11618\n",
              "Barcelona                 10326\n",
              "Munich                     9847\n",
              "Los Angeles                9356\n",
              "Mexico City                8402\n",
              "Montreal                   8265\n",
              "Roma                       7526\n",
              "Tokyo                      7368\n",
              "Moskva                     6843\n",
              "Sochi                      4673\n",
              "Vancouver                  4378\n",
              "Torino                     4365\n",
              "Salt Lake City             4060\n",
              "Nagano                     3518\n",
              "Lillehammer                2971\n",
              "Albertville                2783\n",
              "Innsbruck                  2645\n",
              "Melbourne                  2155\n",
              "Calgary                    2018\n",
              "Sarajevo                   1951\n",
              "Helsinki                   1914\n",
              "Grenoble                   1801\n",
              "Sapporo                    1635\n",
              "Lake Placid                1417\n",
              "Berlin                      827\n",
              "Stockholm                   657\n",
              "Amsterdam                   621\n",
              "Paris                       613\n",
              "Squaw Valley                512\n",
              "Antwerpen                   428\n",
              "Cortina d'Ampezzo           334\n",
              "Sankt Moritz                146\n",
              "Oslo                        144\n",
              "St. Louis                   119\n",
              "Garmisch-Partenkirchen       69\n",
              "Chamonix                     39\n",
              "Name: cidade, dtype: int64"
            ]
          },
          "metadata": {},
          "execution_count": 27
        }
      ]
    },
    {
      "cell_type": "code",
      "source": [
        "#em porcentagem\n",
        "olim['Sexo'].value_counts(normalize=True)"
      ],
      "metadata": {
        "colab": {
          "base_uri": "https://localhost:8080/"
        },
        "id": "hk-8YjunPlKP",
        "outputId": "5368edf4-adf2-4a44-8941-834233fbf771"
      },
      "execution_count": null,
      "outputs": [
        {
          "output_type": "execute_result",
          "data": {
            "text/plain": [
              "M    0.676399\n",
              "F    0.323601\n",
              "Name: Sexo, dtype: float64"
            ]
          },
          "metadata": {},
          "execution_count": 32
        }
      ]
    },
    {
      "cell_type": "code",
      "source": [
        "#ordenando valores\n",
        "olim.sort_values(by=['cidade'])\n",
        "#para ordem decrescente, acrescente o parametro ascending=False"
      ],
      "metadata": {
        "colab": {
          "base_uri": "https://localhost:8080/",
          "height": 826
        },
        "id": "UddBCUnUQVd6",
        "outputId": "974504f3-ba64-4fbb-ae84-e6446387b7ac"
      },
      "execution_count": null,
      "outputs": [
        {
          "output_type": "execute_result",
          "data": {
            "text/plain": [
              "            ID                Nome Sexo  Idade  Altura   Peso            Time  \\\n",
              "101087   51116      Hur Seung-Wook    M   19.0   173.0   89.0     South Korea   \n",
              "251056  125746       Bart Veldkamp    M   24.0   181.0   84.0     Netherlands   \n",
              "27788    14419      Philippe Bozon    M   25.0   180.0   87.0          France   \n",
              "251055  125746       Bart Veldkamp    M   24.0   181.0   84.0     Netherlands   \n",
              "103975   52617  Jari Olavi Isomets    M   23.0   175.0   64.0         Finland   \n",
              "...        ...                 ...  ...    ...     ...    ...             ...   \n",
              "137367   69058         Evelyne Leu    F   33.0   167.0   62.0     Switzerland   \n",
              "105422   53325          Jaromr Jgr    M   37.0   189.0  102.0  Czech Republic   \n",
              "49123    25296         Maria Danou    F   19.0   168.0   52.0          Greece   \n",
              "124838   63019  Markku Olavi Koski    M   28.0   181.0   73.0         Finland   \n",
              "96540    48877  Odd-Bjrn Hjelmeset    M   38.0   180.0   69.0          Norway   \n",
              "\n",
              "       Sigla         Jogo   Ano Temporada       cidade               Esporte  \\\n",
              "101087   KOR  1992 Winter  1992    Winter  Albertville         Alpine Skiing   \n",
              "251056   NED  1992 Winter  1992    Winter  Albertville         Speed Skating   \n",
              "27788    FRA  1992 Winter  1992    Winter  Albertville            Ice Hockey   \n",
              "251055   NED  1992 Winter  1992    Winter  Albertville         Speed Skating   \n",
              "103975   FIN  1992 Winter  1992    Winter  Albertville  Cross Country Skiing   \n",
              "...      ...          ...   ...       ...          ...                   ...   \n",
              "137367   SUI  2010 Winter  2010    Winter    Vancouver      Freestyle Skiing   \n",
              "105422   CZE  2010 Winter  2010    Winter    Vancouver            Ice Hockey   \n",
              "49123    GRE  2010 Winter  2010    Winter    Vancouver  Cross Country Skiing   \n",
              "124838   FIN  2010 Winter  2010    Winter    Vancouver          Snowboarding   \n",
              "96540    NOR  2010 Winter  2010    Winter    Vancouver  Cross Country Skiing   \n",
              "\n",
              "                                            Evento Medalha            Pais  \\\n",
              "101087                  Alpine Skiing Men's Slalom     NaN     South Korea   \n",
              "251056            Speed Skating Men's 5,000 metres     NaN     Netherlands   \n",
              "27788                  Ice Hockey Men's Ice Hockey     NaN          France   \n",
              "251055            Speed Skating Men's 1,500 metres     NaN     Netherlands   \n",
              "103975    Cross Country Skiing Men's 10 kilometres     NaN         Finland   \n",
              "...                                            ...     ...             ...   \n",
              "137367            Freestyle Skiing Women's Aerials     NaN     Switzerland   \n",
              "105422                 Ice Hockey Men's Ice Hockey     NaN  Czech Republic   \n",
              "49123   Cross Country Skiing Women's 10 kilometres     NaN          Greece   \n",
              "124838                 Snowboarding Men's Halfpipe     NaN         Finland   \n",
              "96540     Cross Country Skiing Men's 50 kilometres     NaN          Norway   \n",
              "\n",
              "        Obs  \n",
              "101087  NaN  \n",
              "251056  NaN  \n",
              "27788   NaN  \n",
              "251055  NaN  \n",
              "103975  NaN  \n",
              "...     ...  \n",
              "137367  NaN  \n",
              "105422  NaN  \n",
              "49123   NaN  \n",
              "124838  NaN  \n",
              "96540   NaN  \n",
              "\n",
              "[206152 rows x 17 columns]"
            ],
            "text/html": [
              "\n",
              "  <div id=\"df-48da0d21-7c31-4410-bffa-227aec248d96\" class=\"colab-df-container\">\n",
              "    <div>\n",
              "<style scoped>\n",
              "    .dataframe tbody tr th:only-of-type {\n",
              "        vertical-align: middle;\n",
              "    }\n",
              "\n",
              "    .dataframe tbody tr th {\n",
              "        vertical-align: top;\n",
              "    }\n",
              "\n",
              "    .dataframe thead th {\n",
              "        text-align: right;\n",
              "    }\n",
              "</style>\n",
              "<table border=\"1\" class=\"dataframe\">\n",
              "  <thead>\n",
              "    <tr style=\"text-align: right;\">\n",
              "      <th></th>\n",
              "      <th>ID</th>\n",
              "      <th>Nome</th>\n",
              "      <th>Sexo</th>\n",
              "      <th>Idade</th>\n",
              "      <th>Altura</th>\n",
              "      <th>Peso</th>\n",
              "      <th>Time</th>\n",
              "      <th>Sigla</th>\n",
              "      <th>Jogo</th>\n",
              "      <th>Ano</th>\n",
              "      <th>Temporada</th>\n",
              "      <th>cidade</th>\n",
              "      <th>Esporte</th>\n",
              "      <th>Evento</th>\n",
              "      <th>Medalha</th>\n",
              "      <th>Pais</th>\n",
              "      <th>Obs</th>\n",
              "    </tr>\n",
              "  </thead>\n",
              "  <tbody>\n",
              "    <tr>\n",
              "      <th>101087</th>\n",
              "      <td>51116</td>\n",
              "      <td>Hur Seung-Wook</td>\n",
              "      <td>M</td>\n",
              "      <td>19.0</td>\n",
              "      <td>173.0</td>\n",
              "      <td>89.0</td>\n",
              "      <td>South Korea</td>\n",
              "      <td>KOR</td>\n",
              "      <td>1992 Winter</td>\n",
              "      <td>1992</td>\n",
              "      <td>Winter</td>\n",
              "      <td>Albertville</td>\n",
              "      <td>Alpine Skiing</td>\n",
              "      <td>Alpine Skiing Men's Slalom</td>\n",
              "      <td>NaN</td>\n",
              "      <td>South Korea</td>\n",
              "      <td>NaN</td>\n",
              "    </tr>\n",
              "    <tr>\n",
              "      <th>251056</th>\n",
              "      <td>125746</td>\n",
              "      <td>Bart Veldkamp</td>\n",
              "      <td>M</td>\n",
              "      <td>24.0</td>\n",
              "      <td>181.0</td>\n",
              "      <td>84.0</td>\n",
              "      <td>Netherlands</td>\n",
              "      <td>NED</td>\n",
              "      <td>1992 Winter</td>\n",
              "      <td>1992</td>\n",
              "      <td>Winter</td>\n",
              "      <td>Albertville</td>\n",
              "      <td>Speed Skating</td>\n",
              "      <td>Speed Skating Men's 5,000 metres</td>\n",
              "      <td>NaN</td>\n",
              "      <td>Netherlands</td>\n",
              "      <td>NaN</td>\n",
              "    </tr>\n",
              "    <tr>\n",
              "      <th>27788</th>\n",
              "      <td>14419</td>\n",
              "      <td>Philippe Bozon</td>\n",
              "      <td>M</td>\n",
              "      <td>25.0</td>\n",
              "      <td>180.0</td>\n",
              "      <td>87.0</td>\n",
              "      <td>France</td>\n",
              "      <td>FRA</td>\n",
              "      <td>1992 Winter</td>\n",
              "      <td>1992</td>\n",
              "      <td>Winter</td>\n",
              "      <td>Albertville</td>\n",
              "      <td>Ice Hockey</td>\n",
              "      <td>Ice Hockey Men's Ice Hockey</td>\n",
              "      <td>NaN</td>\n",
              "      <td>France</td>\n",
              "      <td>NaN</td>\n",
              "    </tr>\n",
              "    <tr>\n",
              "      <th>251055</th>\n",
              "      <td>125746</td>\n",
              "      <td>Bart Veldkamp</td>\n",
              "      <td>M</td>\n",
              "      <td>24.0</td>\n",
              "      <td>181.0</td>\n",
              "      <td>84.0</td>\n",
              "      <td>Netherlands</td>\n",
              "      <td>NED</td>\n",
              "      <td>1992 Winter</td>\n",
              "      <td>1992</td>\n",
              "      <td>Winter</td>\n",
              "      <td>Albertville</td>\n",
              "      <td>Speed Skating</td>\n",
              "      <td>Speed Skating Men's 1,500 metres</td>\n",
              "      <td>NaN</td>\n",
              "      <td>Netherlands</td>\n",
              "      <td>NaN</td>\n",
              "    </tr>\n",
              "    <tr>\n",
              "      <th>103975</th>\n",
              "      <td>52617</td>\n",
              "      <td>Jari Olavi Isomets</td>\n",
              "      <td>M</td>\n",
              "      <td>23.0</td>\n",
              "      <td>175.0</td>\n",
              "      <td>64.0</td>\n",
              "      <td>Finland</td>\n",
              "      <td>FIN</td>\n",
              "      <td>1992 Winter</td>\n",
              "      <td>1992</td>\n",
              "      <td>Winter</td>\n",
              "      <td>Albertville</td>\n",
              "      <td>Cross Country Skiing</td>\n",
              "      <td>Cross Country Skiing Men's 10 kilometres</td>\n",
              "      <td>NaN</td>\n",
              "      <td>Finland</td>\n",
              "      <td>NaN</td>\n",
              "    </tr>\n",
              "    <tr>\n",
              "      <th>...</th>\n",
              "      <td>...</td>\n",
              "      <td>...</td>\n",
              "      <td>...</td>\n",
              "      <td>...</td>\n",
              "      <td>...</td>\n",
              "      <td>...</td>\n",
              "      <td>...</td>\n",
              "      <td>...</td>\n",
              "      <td>...</td>\n",
              "      <td>...</td>\n",
              "      <td>...</td>\n",
              "      <td>...</td>\n",
              "      <td>...</td>\n",
              "      <td>...</td>\n",
              "      <td>...</td>\n",
              "      <td>...</td>\n",
              "      <td>...</td>\n",
              "    </tr>\n",
              "    <tr>\n",
              "      <th>137367</th>\n",
              "      <td>69058</td>\n",
              "      <td>Evelyne Leu</td>\n",
              "      <td>F</td>\n",
              "      <td>33.0</td>\n",
              "      <td>167.0</td>\n",
              "      <td>62.0</td>\n",
              "      <td>Switzerland</td>\n",
              "      <td>SUI</td>\n",
              "      <td>2010 Winter</td>\n",
              "      <td>2010</td>\n",
              "      <td>Winter</td>\n",
              "      <td>Vancouver</td>\n",
              "      <td>Freestyle Skiing</td>\n",
              "      <td>Freestyle Skiing Women's Aerials</td>\n",
              "      <td>NaN</td>\n",
              "      <td>Switzerland</td>\n",
              "      <td>NaN</td>\n",
              "    </tr>\n",
              "    <tr>\n",
              "      <th>105422</th>\n",
              "      <td>53325</td>\n",
              "      <td>Jaromr Jgr</td>\n",
              "      <td>M</td>\n",
              "      <td>37.0</td>\n",
              "      <td>189.0</td>\n",
              "      <td>102.0</td>\n",
              "      <td>Czech Republic</td>\n",
              "      <td>CZE</td>\n",
              "      <td>2010 Winter</td>\n",
              "      <td>2010</td>\n",
              "      <td>Winter</td>\n",
              "      <td>Vancouver</td>\n",
              "      <td>Ice Hockey</td>\n",
              "      <td>Ice Hockey Men's Ice Hockey</td>\n",
              "      <td>NaN</td>\n",
              "      <td>Czech Republic</td>\n",
              "      <td>NaN</td>\n",
              "    </tr>\n",
              "    <tr>\n",
              "      <th>49123</th>\n",
              "      <td>25296</td>\n",
              "      <td>Maria Danou</td>\n",
              "      <td>F</td>\n",
              "      <td>19.0</td>\n",
              "      <td>168.0</td>\n",
              "      <td>52.0</td>\n",
              "      <td>Greece</td>\n",
              "      <td>GRE</td>\n",
              "      <td>2010 Winter</td>\n",
              "      <td>2010</td>\n",
              "      <td>Winter</td>\n",
              "      <td>Vancouver</td>\n",
              "      <td>Cross Country Skiing</td>\n",
              "      <td>Cross Country Skiing Women's 10 kilometres</td>\n",
              "      <td>NaN</td>\n",
              "      <td>Greece</td>\n",
              "      <td>NaN</td>\n",
              "    </tr>\n",
              "    <tr>\n",
              "      <th>124838</th>\n",
              "      <td>63019</td>\n",
              "      <td>Markku Olavi Koski</td>\n",
              "      <td>M</td>\n",
              "      <td>28.0</td>\n",
              "      <td>181.0</td>\n",
              "      <td>73.0</td>\n",
              "      <td>Finland</td>\n",
              "      <td>FIN</td>\n",
              "      <td>2010 Winter</td>\n",
              "      <td>2010</td>\n",
              "      <td>Winter</td>\n",
              "      <td>Vancouver</td>\n",
              "      <td>Snowboarding</td>\n",
              "      <td>Snowboarding Men's Halfpipe</td>\n",
              "      <td>NaN</td>\n",
              "      <td>Finland</td>\n",
              "      <td>NaN</td>\n",
              "    </tr>\n",
              "    <tr>\n",
              "      <th>96540</th>\n",
              "      <td>48877</td>\n",
              "      <td>Odd-Bjrn Hjelmeset</td>\n",
              "      <td>M</td>\n",
              "      <td>38.0</td>\n",
              "      <td>180.0</td>\n",
              "      <td>69.0</td>\n",
              "      <td>Norway</td>\n",
              "      <td>NOR</td>\n",
              "      <td>2010 Winter</td>\n",
              "      <td>2010</td>\n",
              "      <td>Winter</td>\n",
              "      <td>Vancouver</td>\n",
              "      <td>Cross Country Skiing</td>\n",
              "      <td>Cross Country Skiing Men's 50 kilometres</td>\n",
              "      <td>NaN</td>\n",
              "      <td>Norway</td>\n",
              "      <td>NaN</td>\n",
              "    </tr>\n",
              "  </tbody>\n",
              "</table>\n",
              "<p>206152 rows × 17 columns</p>\n",
              "</div>\n",
              "    <div class=\"colab-df-buttons\">\n",
              "\n",
              "  <div class=\"colab-df-container\">\n",
              "    <button class=\"colab-df-convert\" onclick=\"convertToInteractive('df-48da0d21-7c31-4410-bffa-227aec248d96')\"\n",
              "            title=\"Convert this dataframe to an interactive table.\"\n",
              "            style=\"display:none;\">\n",
              "\n",
              "  <svg xmlns=\"http://www.w3.org/2000/svg\" height=\"24px\" viewBox=\"0 -960 960 960\">\n",
              "    <path d=\"M120-120v-720h720v720H120Zm60-500h600v-160H180v160Zm220 220h160v-160H400v160Zm0 220h160v-160H400v160ZM180-400h160v-160H180v160Zm440 0h160v-160H620v160ZM180-180h160v-160H180v160Zm440 0h160v-160H620v160Z\"/>\n",
              "  </svg>\n",
              "    </button>\n",
              "\n",
              "  <style>\n",
              "    .colab-df-container {\n",
              "      display:flex;\n",
              "      gap: 12px;\n",
              "    }\n",
              "\n",
              "    .colab-df-convert {\n",
              "      background-color: #E8F0FE;\n",
              "      border: none;\n",
              "      border-radius: 50%;\n",
              "      cursor: pointer;\n",
              "      display: none;\n",
              "      fill: #1967D2;\n",
              "      height: 32px;\n",
              "      padding: 0 0 0 0;\n",
              "      width: 32px;\n",
              "    }\n",
              "\n",
              "    .colab-df-convert:hover {\n",
              "      background-color: #E2EBFA;\n",
              "      box-shadow: 0px 1px 2px rgba(60, 64, 67, 0.3), 0px 1px 3px 1px rgba(60, 64, 67, 0.15);\n",
              "      fill: #174EA6;\n",
              "    }\n",
              "\n",
              "    .colab-df-buttons div {\n",
              "      margin-bottom: 4px;\n",
              "    }\n",
              "\n",
              "    [theme=dark] .colab-df-convert {\n",
              "      background-color: #3B4455;\n",
              "      fill: #D2E3FC;\n",
              "    }\n",
              "\n",
              "    [theme=dark] .colab-df-convert:hover {\n",
              "      background-color: #434B5C;\n",
              "      box-shadow: 0px 1px 3px 1px rgba(0, 0, 0, 0.15);\n",
              "      filter: drop-shadow(0px 1px 2px rgba(0, 0, 0, 0.3));\n",
              "      fill: #FFFFFF;\n",
              "    }\n",
              "  </style>\n",
              "\n",
              "    <script>\n",
              "      const buttonEl =\n",
              "        document.querySelector('#df-48da0d21-7c31-4410-bffa-227aec248d96 button.colab-df-convert');\n",
              "      buttonEl.style.display =\n",
              "        google.colab.kernel.accessAllowed ? 'block' : 'none';\n",
              "\n",
              "      async function convertToInteractive(key) {\n",
              "        const element = document.querySelector('#df-48da0d21-7c31-4410-bffa-227aec248d96');\n",
              "        const dataTable =\n",
              "          await google.colab.kernel.invokeFunction('convertToInteractive',\n",
              "                                                    [key], {});\n",
              "        if (!dataTable) return;\n",
              "\n",
              "        const docLinkHtml = 'Like what you see? Visit the ' +\n",
              "          '<a target=\"_blank\" href=https://colab.research.google.com/notebooks/data_table.ipynb>data table notebook</a>'\n",
              "          + ' to learn more about interactive tables.';\n",
              "        element.innerHTML = '';\n",
              "        dataTable['output_type'] = 'display_data';\n",
              "        await google.colab.output.renderOutput(dataTable, element);\n",
              "        const docLink = document.createElement('div');\n",
              "        docLink.innerHTML = docLinkHtml;\n",
              "        element.appendChild(docLink);\n",
              "      }\n",
              "    </script>\n",
              "  </div>\n",
              "\n",
              "\n",
              "<div id=\"df-42a959e7-48c4-48a1-8904-6a6c44ea1199\">\n",
              "  <button class=\"colab-df-quickchart\" onclick=\"quickchart('df-42a959e7-48c4-48a1-8904-6a6c44ea1199')\"\n",
              "            title=\"Suggest charts\"\n",
              "            style=\"display:none;\">\n",
              "\n",
              "<svg xmlns=\"http://www.w3.org/2000/svg\" height=\"24px\"viewBox=\"0 0 24 24\"\n",
              "     width=\"24px\">\n",
              "    <g>\n",
              "        <path d=\"M19 3H5c-1.1 0-2 .9-2 2v14c0 1.1.9 2 2 2h14c1.1 0 2-.9 2-2V5c0-1.1-.9-2-2-2zM9 17H7v-7h2v7zm4 0h-2V7h2v10zm4 0h-2v-4h2v4z\"/>\n",
              "    </g>\n",
              "</svg>\n",
              "  </button>\n",
              "\n",
              "<style>\n",
              "  .colab-df-quickchart {\n",
              "      --bg-color: #E8F0FE;\n",
              "      --fill-color: #1967D2;\n",
              "      --hover-bg-color: #E2EBFA;\n",
              "      --hover-fill-color: #174EA6;\n",
              "      --disabled-fill-color: #AAA;\n",
              "      --disabled-bg-color: #DDD;\n",
              "  }\n",
              "\n",
              "  [theme=dark] .colab-df-quickchart {\n",
              "      --bg-color: #3B4455;\n",
              "      --fill-color: #D2E3FC;\n",
              "      --hover-bg-color: #434B5C;\n",
              "      --hover-fill-color: #FFFFFF;\n",
              "      --disabled-bg-color: #3B4455;\n",
              "      --disabled-fill-color: #666;\n",
              "  }\n",
              "\n",
              "  .colab-df-quickchart {\n",
              "    background-color: var(--bg-color);\n",
              "    border: none;\n",
              "    border-radius: 50%;\n",
              "    cursor: pointer;\n",
              "    display: none;\n",
              "    fill: var(--fill-color);\n",
              "    height: 32px;\n",
              "    padding: 0;\n",
              "    width: 32px;\n",
              "  }\n",
              "\n",
              "  .colab-df-quickchart:hover {\n",
              "    background-color: var(--hover-bg-color);\n",
              "    box-shadow: 0 1px 2px rgba(60, 64, 67, 0.3), 0 1px 3px 1px rgba(60, 64, 67, 0.15);\n",
              "    fill: var(--button-hover-fill-color);\n",
              "  }\n",
              "\n",
              "  .colab-df-quickchart-complete:disabled,\n",
              "  .colab-df-quickchart-complete:disabled:hover {\n",
              "    background-color: var(--disabled-bg-color);\n",
              "    fill: var(--disabled-fill-color);\n",
              "    box-shadow: none;\n",
              "  }\n",
              "\n",
              "  .colab-df-spinner {\n",
              "    border: 2px solid var(--fill-color);\n",
              "    border-color: transparent;\n",
              "    border-bottom-color: var(--fill-color);\n",
              "    animation:\n",
              "      spin 1s steps(1) infinite;\n",
              "  }\n",
              "\n",
              "  @keyframes spin {\n",
              "    0% {\n",
              "      border-color: transparent;\n",
              "      border-bottom-color: var(--fill-color);\n",
              "      border-left-color: var(--fill-color);\n",
              "    }\n",
              "    20% {\n",
              "      border-color: transparent;\n",
              "      border-left-color: var(--fill-color);\n",
              "      border-top-color: var(--fill-color);\n",
              "    }\n",
              "    30% {\n",
              "      border-color: transparent;\n",
              "      border-left-color: var(--fill-color);\n",
              "      border-top-color: var(--fill-color);\n",
              "      border-right-color: var(--fill-color);\n",
              "    }\n",
              "    40% {\n",
              "      border-color: transparent;\n",
              "      border-right-color: var(--fill-color);\n",
              "      border-top-color: var(--fill-color);\n",
              "    }\n",
              "    60% {\n",
              "      border-color: transparent;\n",
              "      border-right-color: var(--fill-color);\n",
              "    }\n",
              "    80% {\n",
              "      border-color: transparent;\n",
              "      border-right-color: var(--fill-color);\n",
              "      border-bottom-color: var(--fill-color);\n",
              "    }\n",
              "    90% {\n",
              "      border-color: transparent;\n",
              "      border-bottom-color: var(--fill-color);\n",
              "    }\n",
              "  }\n",
              "</style>\n",
              "\n",
              "  <script>\n",
              "    async function quickchart(key) {\n",
              "      const quickchartButtonEl =\n",
              "        document.querySelector('#' + key + ' button');\n",
              "      quickchartButtonEl.disabled = true;  // To prevent multiple clicks.\n",
              "      quickchartButtonEl.classList.add('colab-df-spinner');\n",
              "      try {\n",
              "        const charts = await google.colab.kernel.invokeFunction(\n",
              "            'suggestCharts', [key], {});\n",
              "      } catch (error) {\n",
              "        console.error('Error during call to suggestCharts:', error);\n",
              "      }\n",
              "      quickchartButtonEl.classList.remove('colab-df-spinner');\n",
              "      quickchartButtonEl.classList.add('colab-df-quickchart-complete');\n",
              "    }\n",
              "    (() => {\n",
              "      let quickchartButtonEl =\n",
              "        document.querySelector('#df-42a959e7-48c4-48a1-8904-6a6c44ea1199 button');\n",
              "      quickchartButtonEl.style.display =\n",
              "        google.colab.kernel.accessAllowed ? 'block' : 'none';\n",
              "    })();\n",
              "  </script>\n",
              "</div>\n",
              "\n",
              "    </div>\n",
              "  </div>\n"
            ]
          },
          "metadata": {},
          "execution_count": 34
        }
      ]
    },
    {
      "cell_type": "code",
      "source": [],
      "metadata": {
        "id": "pgdc7NgvRH7t"
      },
      "execution_count": null,
      "outputs": []
    }
  ]
}
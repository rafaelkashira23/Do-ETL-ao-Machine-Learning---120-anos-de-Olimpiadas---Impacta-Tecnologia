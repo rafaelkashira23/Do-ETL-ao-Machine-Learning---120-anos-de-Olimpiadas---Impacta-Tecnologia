{
  "nbformat": 4,
  "nbformat_minor": 0,
  "metadata": {
    "colab": {
      "provenance": [],
      "mount_file_id": "1bHlpiCOmkELHHiI4ozC3907l7I5xEndN",
      "authorship_tag": "ABX9TyNQgdIZOTvayuHlJSl8Ddjb",
      "include_colab_link": true
    },
    "kernelspec": {
      "name": "python3",
      "display_name": "Python 3"
    },
    "language_info": {
      "name": "python"
    }
  },
  "cells": [
    {
      "cell_type": "markdown",
      "metadata": {
        "id": "view-in-github",
        "colab_type": "text"
      },
      "source": [
        "<a href=\"https://colab.research.google.com/github/rafaelkashira23/Projeto-Do-ETL-ao-Machine-Learning---120-anos-de-Olimpiadas---Impacta-Tecnologia/blob/main/120_ANOS_OLIMPIADAS.ipynb\" target=\"_parent\"><img src=\"https://colab.research.google.com/assets/colab-badge.svg\" alt=\"Open In Colab\"/></a>"
      ]
    },
    {
      "cell_type": "code",
      "execution_count": 1,
      "metadata": {
        "id": "6b_RbDZJzElJ"
      },
      "outputs": [],
      "source": [
        "import pandas as pd"
      ]
    },
    {
      "cell_type": "markdown",
      "source": [
        "Importação de dados e unificação de tabelas"
      ],
      "metadata": {
        "id": "jjSoaDaa0Pnb"
      }
    },
    {
      "cell_type": "code",
      "source": [
        "atleta = pd.read_csv('/content/athlete_events.csv', sep=',', encoding=\"UTF-8\")"
      ],
      "metadata": {
        "id": "UbqK6bpqza0X"
      },
      "execution_count": 2,
      "outputs": []
    },
    {
      "cell_type": "code",
      "source": [
        "regiao = pd.read_csv('/content/noc_regions.csv', sep=',', encoding=\"UTF-8\")"
      ],
      "metadata": {
        "id": "8GGz3doSz8qG"
      },
      "execution_count": 3,
      "outputs": []
    },
    {
      "cell_type": "code",
      "source": [
        "olim = pd.merge(atleta, regiao, on='NOC', how='left')"
      ],
      "metadata": {
        "id": "mIlRJ5jq0H9U"
      },
      "execution_count": 4,
      "outputs": []
    },
    {
      "cell_type": "code",
      "source": [
        "#Renomeando as colunas\n",
        "olim.columns"
      ],
      "metadata": {
        "id": "ZCwmxepp0mmQ"
      },
      "execution_count": null,
      "outputs": []
    },
    {
      "cell_type": "code",
      "source": [
        "olim = olim.rename(columns={'Name':'Nome', 'Sex':'Sexo', 'Age':'Idade', 'Height':'Altura', 'Weight':'Peso', 'Team':'Time', 'NOC':'Sigla_pais', 'Games':'Jogo',\n",
        "       'Year':'Ano', 'Season':'Temporada', 'City':'cidade', 'Sport':'Esporte', 'Event':'Evento', 'Medal':'Medalha', 'region':'Pais', 'notes':'Obs'})"
      ],
      "metadata": {
        "id": "L2-M28Yf0_pz"
      },
      "execution_count": 6,
      "outputs": []
    },
    {
      "cell_type": "code",
      "source": [
        "olim.head(1)"
      ],
      "metadata": {
        "id": "l6xv8f1X5DJi",
        "colab": {
          "base_uri": "https://localhost:8080/",
          "height": 135
        },
        "outputId": "3eb46648-43c9-4da4-d9cf-7f342eab66ab"
      },
      "execution_count": 7,
      "outputs": [
        {
          "output_type": "execute_result",
          "data": {
            "text/plain": [
              "   ID       Nome Sexo  Idade  Altura  Peso   Time Sigla_pais         Jogo  \\\n",
              "0   1  A Dijiang    M   24.0   180.0  80.0  China        CHN  1992 Summer   \n",
              "\n",
              "    Ano Temporada     cidade     Esporte                       Evento Medalha  \\\n",
              "0  1992    Summer  Barcelona  Basketball  Basketball Men's Basketball     NaN   \n",
              "\n",
              "    Pais  Obs  \n",
              "0  China  NaN  "
            ],
            "text/html": [
              "\n",
              "  <div id=\"df-8b89200b-bafb-4d86-9f74-8d89ae14be94\" class=\"colab-df-container\">\n",
              "    <div>\n",
              "<style scoped>\n",
              "    .dataframe tbody tr th:only-of-type {\n",
              "        vertical-align: middle;\n",
              "    }\n",
              "\n",
              "    .dataframe tbody tr th {\n",
              "        vertical-align: top;\n",
              "    }\n",
              "\n",
              "    .dataframe thead th {\n",
              "        text-align: right;\n",
              "    }\n",
              "</style>\n",
              "<table border=\"1\" class=\"dataframe\">\n",
              "  <thead>\n",
              "    <tr style=\"text-align: right;\">\n",
              "      <th></th>\n",
              "      <th>ID</th>\n",
              "      <th>Nome</th>\n",
              "      <th>Sexo</th>\n",
              "      <th>Idade</th>\n",
              "      <th>Altura</th>\n",
              "      <th>Peso</th>\n",
              "      <th>Time</th>\n",
              "      <th>Sigla_pais</th>\n",
              "      <th>Jogo</th>\n",
              "      <th>Ano</th>\n",
              "      <th>Temporada</th>\n",
              "      <th>cidade</th>\n",
              "      <th>Esporte</th>\n",
              "      <th>Evento</th>\n",
              "      <th>Medalha</th>\n",
              "      <th>Pais</th>\n",
              "      <th>Obs</th>\n",
              "    </tr>\n",
              "  </thead>\n",
              "  <tbody>\n",
              "    <tr>\n",
              "      <th>0</th>\n",
              "      <td>1</td>\n",
              "      <td>A Dijiang</td>\n",
              "      <td>M</td>\n",
              "      <td>24.0</td>\n",
              "      <td>180.0</td>\n",
              "      <td>80.0</td>\n",
              "      <td>China</td>\n",
              "      <td>CHN</td>\n",
              "      <td>1992 Summer</td>\n",
              "      <td>1992</td>\n",
              "      <td>Summer</td>\n",
              "      <td>Barcelona</td>\n",
              "      <td>Basketball</td>\n",
              "      <td>Basketball Men's Basketball</td>\n",
              "      <td>NaN</td>\n",
              "      <td>China</td>\n",
              "      <td>NaN</td>\n",
              "    </tr>\n",
              "  </tbody>\n",
              "</table>\n",
              "</div>\n",
              "    <div class=\"colab-df-buttons\">\n",
              "\n",
              "  <div class=\"colab-df-container\">\n",
              "    <button class=\"colab-df-convert\" onclick=\"convertToInteractive('df-8b89200b-bafb-4d86-9f74-8d89ae14be94')\"\n",
              "            title=\"Convert this dataframe to an interactive table.\"\n",
              "            style=\"display:none;\">\n",
              "\n",
              "  <svg xmlns=\"http://www.w3.org/2000/svg\" height=\"24px\" viewBox=\"0 -960 960 960\">\n",
              "    <path d=\"M120-120v-720h720v720H120Zm60-500h600v-160H180v160Zm220 220h160v-160H400v160Zm0 220h160v-160H400v160ZM180-400h160v-160H180v160Zm440 0h160v-160H620v160ZM180-180h160v-160H180v160Zm440 0h160v-160H620v160Z\"/>\n",
              "  </svg>\n",
              "    </button>\n",
              "\n",
              "  <style>\n",
              "    .colab-df-container {\n",
              "      display:flex;\n",
              "      gap: 12px;\n",
              "    }\n",
              "\n",
              "    .colab-df-convert {\n",
              "      background-color: #E8F0FE;\n",
              "      border: none;\n",
              "      border-radius: 50%;\n",
              "      cursor: pointer;\n",
              "      display: none;\n",
              "      fill: #1967D2;\n",
              "      height: 32px;\n",
              "      padding: 0 0 0 0;\n",
              "      width: 32px;\n",
              "    }\n",
              "\n",
              "    .colab-df-convert:hover {\n",
              "      background-color: #E2EBFA;\n",
              "      box-shadow: 0px 1px 2px rgba(60, 64, 67, 0.3), 0px 1px 3px 1px rgba(60, 64, 67, 0.15);\n",
              "      fill: #174EA6;\n",
              "    }\n",
              "\n",
              "    .colab-df-buttons div {\n",
              "      margin-bottom: 4px;\n",
              "    }\n",
              "\n",
              "    [theme=dark] .colab-df-convert {\n",
              "      background-color: #3B4455;\n",
              "      fill: #D2E3FC;\n",
              "    }\n",
              "\n",
              "    [theme=dark] .colab-df-convert:hover {\n",
              "      background-color: #434B5C;\n",
              "      box-shadow: 0px 1px 3px 1px rgba(0, 0, 0, 0.15);\n",
              "      filter: drop-shadow(0px 1px 2px rgba(0, 0, 0, 0.3));\n",
              "      fill: #FFFFFF;\n",
              "    }\n",
              "  </style>\n",
              "\n",
              "    <script>\n",
              "      const buttonEl =\n",
              "        document.querySelector('#df-8b89200b-bafb-4d86-9f74-8d89ae14be94 button.colab-df-convert');\n",
              "      buttonEl.style.display =\n",
              "        google.colab.kernel.accessAllowed ? 'block' : 'none';\n",
              "\n",
              "      async function convertToInteractive(key) {\n",
              "        const element = document.querySelector('#df-8b89200b-bafb-4d86-9f74-8d89ae14be94');\n",
              "        const dataTable =\n",
              "          await google.colab.kernel.invokeFunction('convertToInteractive',\n",
              "                                                    [key], {});\n",
              "        if (!dataTable) return;\n",
              "\n",
              "        const docLinkHtml = 'Like what you see? Visit the ' +\n",
              "          '<a target=\"_blank\" href=https://colab.research.google.com/notebooks/data_table.ipynb>data table notebook</a>'\n",
              "          + ' to learn more about interactive tables.';\n",
              "        element.innerHTML = '';\n",
              "        dataTable['output_type'] = 'display_data';\n",
              "        await google.colab.output.renderOutput(dataTable, element);\n",
              "        const docLink = document.createElement('div');\n",
              "        docLink.innerHTML = docLinkHtml;\n",
              "        element.appendChild(docLink);\n",
              "      }\n",
              "    </script>\n",
              "  </div>\n",
              "\n",
              "\n",
              "    </div>\n",
              "  </div>\n"
            ]
          },
          "metadata": {},
          "execution_count": 7
        }
      ]
    },
    {
      "cell_type": "code",
      "source": [
        "olim = olim.rename(columns={'Sigla_pais':'Sigla'})"
      ],
      "metadata": {
        "id": "tRylsQjX5Poa"
      },
      "execution_count": 8,
      "outputs": []
    },
    {
      "cell_type": "markdown",
      "source": [
        "REMOVENDO DUPLICIDADES"
      ],
      "metadata": {
        "id": "sADlLEzU6Rby"
      }
    },
    {
      "cell_type": "code",
      "source": [
        "olim.shape"
      ],
      "metadata": {
        "id": "9SruF9Xl6IkY",
        "colab": {
          "base_uri": "https://localhost:8080/"
        },
        "outputId": "cd2b9baa-4dd0-4902-b95b-18e07dbfc039"
      },
      "execution_count": 9,
      "outputs": [
        {
          "output_type": "execute_result",
          "data": {
            "text/plain": [
              "(271116, 17)"
            ]
          },
          "metadata": {},
          "execution_count": 9
        }
      ]
    },
    {
      "cell_type": "code",
      "source": [
        "olim = olim.drop_duplicates()"
      ],
      "metadata": {
        "id": "NfjTE5kI7Mg5"
      },
      "execution_count": 10,
      "outputs": []
    },
    {
      "cell_type": "code",
      "source": [
        "olim.shape"
      ],
      "metadata": {
        "id": "RDQSQDdn7TBR",
        "colab": {
          "base_uri": "https://localhost:8080/"
        },
        "outputId": "be9e3367-bb4e-4e99-a47c-89a5ca4736b4"
      },
      "execution_count": 11,
      "outputs": [
        {
          "output_type": "execute_result",
          "data": {
            "text/plain": [
              "(269731, 17)"
            ]
          },
          "metadata": {},
          "execution_count": 11
        }
      ]
    },
    {
      "cell_type": "markdown",
      "source": [
        "REMOVENDO DADOS NULOS"
      ],
      "metadata": {
        "id": "Nfc3avpF7hZj"
      }
    },
    {
      "cell_type": "code",
      "source": [
        "olim.isnull().any()"
      ],
      "metadata": {
        "id": "kzXagOIC7Uok",
        "colab": {
          "base_uri": "https://localhost:8080/"
        },
        "outputId": "5adda58e-7de1-45da-d57b-95df89ec085b"
      },
      "execution_count": 12,
      "outputs": [
        {
          "output_type": "execute_result",
          "data": {
            "text/plain": [
              "ID           False\n",
              "Nome         False\n",
              "Sexo         False\n",
              "Idade         True\n",
              "Altura        True\n",
              "Peso          True\n",
              "Time         False\n",
              "Sigla        False\n",
              "Jogo         False\n",
              "Ano          False\n",
              "Temporada    False\n",
              "cidade       False\n",
              "Esporte      False\n",
              "Evento       False\n",
              "Medalha       True\n",
              "Pais          True\n",
              "Obs           True\n",
              "dtype: bool"
            ]
          },
          "metadata": {},
          "execution_count": 12
        }
      ]
    },
    {
      "cell_type": "code",
      "source": [
        "olim.isnull().sum()"
      ],
      "metadata": {
        "id": "dQNVfl7A8HHD",
        "colab": {
          "base_uri": "https://localhost:8080/"
        },
        "outputId": "75a7ce55-c173-495d-a042-8f489cfd8aa9"
      },
      "execution_count": 13,
      "outputs": [
        {
          "output_type": "execute_result",
          "data": {
            "text/plain": [
              "ID                0\n",
              "Nome              0\n",
              "Sexo              0\n",
              "Idade          9315\n",
              "Altura        58814\n",
              "Peso          61527\n",
              "Time              0\n",
              "Sigla             0\n",
              "Jogo              0\n",
              "Ano               0\n",
              "Temporada         0\n",
              "cidade            0\n",
              "Esporte           0\n",
              "Evento            0\n",
              "Medalha      229959\n",
              "Pais            370\n",
              "Obs          264696\n",
              "dtype: int64"
            ]
          },
          "metadata": {},
          "execution_count": 13
        }
      ]
    },
    {
      "cell_type": "code",
      "source": [
        "olim = olim.dropna(subset=['Peso'])"
      ],
      "metadata": {
        "id": "Vvw8cjzY9OBE"
      },
      "execution_count": 14,
      "outputs": []
    },
    {
      "cell_type": "code",
      "source": [
        "olim = olim.dropna(subset=['Altura'])"
      ],
      "metadata": {
        "id": "DnUr1KVy_lJy"
      },
      "execution_count": 15,
      "outputs": []
    },
    {
      "cell_type": "code",
      "source": [
        "olim = olim.dropna(subset=['Idade'])"
      ],
      "metadata": {
        "id": "roaEk5Qn_65j"
      },
      "execution_count": 16,
      "outputs": []
    },
    {
      "cell_type": "code",
      "source": [
        "olim.isnull().sum()"
      ],
      "metadata": {
        "id": "4Wwh-1bCAAqF",
        "colab": {
          "base_uri": "https://localhost:8080/"
        },
        "outputId": "60caef5c-9ebb-4365-9275-c495f5aa6480"
      },
      "execution_count": 17,
      "outputs": [
        {
          "output_type": "execute_result",
          "data": {
            "text/plain": [
              "ID                0\n",
              "Nome              0\n",
              "Sexo              0\n",
              "Idade             0\n",
              "Altura            0\n",
              "Peso              0\n",
              "Time              0\n",
              "Sigla             0\n",
              "Jogo              0\n",
              "Ano               0\n",
              "Temporada         0\n",
              "cidade            0\n",
              "Esporte           0\n",
              "Evento            0\n",
              "Medalha      175971\n",
              "Pais            270\n",
              "Obs          202659\n",
              "dtype: int64"
            ]
          },
          "metadata": {},
          "execution_count": 17
        }
      ]
    },
    {
      "cell_type": "markdown",
      "source": [
        "EXPLORAÇÃO DOS DADOS"
      ],
      "metadata": {
        "id": "AVjLBpYZDZMv"
      }
    },
    {
      "cell_type": "code",
      "source": [
        "olim['Sexo'].unique()"
      ],
      "metadata": {
        "id": "1l02X4efAEzA",
        "colab": {
          "base_uri": "https://localhost:8080/"
        },
        "outputId": "432137d0-ba84-49b7-ad69-d17e4d93bec5"
      },
      "execution_count": 18,
      "outputs": [
        {
          "output_type": "execute_result",
          "data": {
            "text/plain": [
              "array(['M', 'F'], dtype=object)"
            ]
          },
          "metadata": {},
          "execution_count": 18
        }
      ]
    },
    {
      "cell_type": "code",
      "source": [
        "olim['cidade'].unique()"
      ],
      "metadata": {
        "id": "LXmed1zsLKiU",
        "colab": {
          "base_uri": "https://localhost:8080/"
        },
        "outputId": "a1eb1f8d-2375-467e-b734-c57b11b07fa3"
      },
      "execution_count": 19,
      "outputs": [
        {
          "output_type": "execute_result",
          "data": {
            "text/plain": [
              "array(['Barcelona', 'London', 'Calgary', 'Albertville', 'Lillehammer',\n",
              "       'Salt Lake City', 'Lake Placid', 'Sydney', 'Atlanta', 'Sochi',\n",
              "       'Helsinki', 'Nagano', 'Torino', 'Rio de Janeiro', 'Athina',\n",
              "       'Sarajevo', 'Mexico City', 'Munich', 'Berlin', 'Melbourne', 'Roma',\n",
              "       'Antwerpen', 'Paris', 'Amsterdam', 'Beijing', 'Montreal', 'Seoul',\n",
              "       'Moskva', 'Los Angeles', 'Tokyo', 'Vancouver', 'Innsbruck',\n",
              "       'Grenoble', 'Sapporo', 'Chamonix', 'Stockholm',\n",
              "       'Garmisch-Partenkirchen', 'Sankt Moritz', \"Cortina d'Ampezzo\",\n",
              "       'Squaw Valley', 'Oslo', 'St. Louis'], dtype=object)"
            ]
          },
          "metadata": {},
          "execution_count": 19
        }
      ]
    },
    {
      "cell_type": "code",
      "source": [
        "olim['Sexo'].value_counts()"
      ],
      "metadata": {
        "id": "GPhb3-NYO2tF",
        "colab": {
          "base_uri": "https://localhost:8080/"
        },
        "outputId": "71eb346b-aeba-4eca-af88-e40a01bb7819"
      },
      "execution_count": 20,
      "outputs": [
        {
          "output_type": "execute_result",
          "data": {
            "text/plain": [
              "M    139441\n",
              "F     66711\n",
              "Name: Sexo, dtype: int64"
            ]
          },
          "metadata": {},
          "execution_count": 20
        }
      ]
    },
    {
      "cell_type": "code",
      "source": [
        "olim['cidade'].value_counts()"
      ],
      "metadata": {
        "id": "iHs1mcP6PhBa",
        "colab": {
          "base_uri": "https://localhost:8080/"
        },
        "outputId": "7e6e4563-1c72-4ce8-d782-d986136e902e"
      },
      "execution_count": 21,
      "outputs": [
        {
          "output_type": "execute_result",
          "data": {
            "text/plain": [
              "London                    13803\n",
              "Sydney                    13682\n",
              "Athina                    13640\n",
              "Rio de Janeiro            13443\n",
              "Beijing                   13402\n",
              "Atlanta                   11838\n",
              "Seoul                     11618\n",
              "Barcelona                 10326\n",
              "Munich                     9847\n",
              "Los Angeles                9356\n",
              "Mexico City                8402\n",
              "Montreal                   8265\n",
              "Roma                       7526\n",
              "Tokyo                      7368\n",
              "Moskva                     6843\n",
              "Sochi                      4673\n",
              "Vancouver                  4378\n",
              "Torino                     4365\n",
              "Salt Lake City             4060\n",
              "Nagano                     3518\n",
              "Lillehammer                2971\n",
              "Albertville                2783\n",
              "Innsbruck                  2645\n",
              "Melbourne                  2155\n",
              "Calgary                    2018\n",
              "Sarajevo                   1951\n",
              "Helsinki                   1914\n",
              "Grenoble                   1801\n",
              "Sapporo                    1635\n",
              "Lake Placid                1417\n",
              "Berlin                      827\n",
              "Stockholm                   657\n",
              "Amsterdam                   621\n",
              "Paris                       613\n",
              "Squaw Valley                512\n",
              "Antwerpen                   428\n",
              "Cortina d'Ampezzo           334\n",
              "Sankt Moritz                146\n",
              "Oslo                        144\n",
              "St. Louis                   119\n",
              "Garmisch-Partenkirchen       69\n",
              "Chamonix                     39\n",
              "Name: cidade, dtype: int64"
            ]
          },
          "metadata": {},
          "execution_count": 21
        }
      ]
    },
    {
      "cell_type": "code",
      "source": [
        "#em porcentagem\n",
        "olim['Sexo'].value_counts(normalize=True)"
      ],
      "metadata": {
        "id": "hk-8YjunPlKP",
        "colab": {
          "base_uri": "https://localhost:8080/"
        },
        "outputId": "9413f830-2235-4ca1-a845-01c928d21b2b"
      },
      "execution_count": 22,
      "outputs": [
        {
          "output_type": "execute_result",
          "data": {
            "text/plain": [
              "M    0.676399\n",
              "F    0.323601\n",
              "Name: Sexo, dtype: float64"
            ]
          },
          "metadata": {},
          "execution_count": 22
        }
      ]
    },
    {
      "cell_type": "code",
      "source": [
        "#ordenando valores\n",
        "olim.sort_values(by=['cidade'])\n",
        "#para ordem decrescente, acrescente o parametro ascending=False"
      ],
      "metadata": {
        "id": "UddBCUnUQVd6",
        "colab": {
          "base_uri": "https://localhost:8080/",
          "height": 826
        },
        "outputId": "25fab842-a4ff-4362-b67e-aff2fd383f2a"
      },
      "execution_count": 23,
      "outputs": [
        {
          "output_type": "execute_result",
          "data": {
            "text/plain": [
              "            ID                Nome Sexo  Idade  Altura   Peso            Time  \\\n",
              "101087   51116      Hur Seung-Wook    M   19.0   173.0   89.0     South Korea   \n",
              "251056  125746       Bart Veldkamp    M   24.0   181.0   84.0     Netherlands   \n",
              "27788    14419      Philippe Bozon    M   25.0   180.0   87.0          France   \n",
              "251055  125746       Bart Veldkamp    M   24.0   181.0   84.0     Netherlands   \n",
              "103975   52617  Jari Olavi Isomets    M   23.0   175.0   64.0         Finland   \n",
              "...        ...                 ...  ...    ...     ...    ...             ...   \n",
              "137367   69058         Evelyne Leu    F   33.0   167.0   62.0     Switzerland   \n",
              "105422   53325          Jaromr Jgr    M   37.0   189.0  102.0  Czech Republic   \n",
              "49123    25296         Maria Danou    F   19.0   168.0   52.0          Greece   \n",
              "124838   63019  Markku Olavi Koski    M   28.0   181.0   73.0         Finland   \n",
              "96540    48877  Odd-Bjrn Hjelmeset    M   38.0   180.0   69.0          Norway   \n",
              "\n",
              "       Sigla         Jogo   Ano Temporada       cidade               Esporte  \\\n",
              "101087   KOR  1992 Winter  1992    Winter  Albertville         Alpine Skiing   \n",
              "251056   NED  1992 Winter  1992    Winter  Albertville         Speed Skating   \n",
              "27788    FRA  1992 Winter  1992    Winter  Albertville            Ice Hockey   \n",
              "251055   NED  1992 Winter  1992    Winter  Albertville         Speed Skating   \n",
              "103975   FIN  1992 Winter  1992    Winter  Albertville  Cross Country Skiing   \n",
              "...      ...          ...   ...       ...          ...                   ...   \n",
              "137367   SUI  2010 Winter  2010    Winter    Vancouver      Freestyle Skiing   \n",
              "105422   CZE  2010 Winter  2010    Winter    Vancouver            Ice Hockey   \n",
              "49123    GRE  2010 Winter  2010    Winter    Vancouver  Cross Country Skiing   \n",
              "124838   FIN  2010 Winter  2010    Winter    Vancouver          Snowboarding   \n",
              "96540    NOR  2010 Winter  2010    Winter    Vancouver  Cross Country Skiing   \n",
              "\n",
              "                                            Evento Medalha            Pais  \\\n",
              "101087                  Alpine Skiing Men's Slalom     NaN     South Korea   \n",
              "251056            Speed Skating Men's 5,000 metres     NaN     Netherlands   \n",
              "27788                  Ice Hockey Men's Ice Hockey     NaN          France   \n",
              "251055            Speed Skating Men's 1,500 metres     NaN     Netherlands   \n",
              "103975    Cross Country Skiing Men's 10 kilometres     NaN         Finland   \n",
              "...                                            ...     ...             ...   \n",
              "137367            Freestyle Skiing Women's Aerials     NaN     Switzerland   \n",
              "105422                 Ice Hockey Men's Ice Hockey     NaN  Czech Republic   \n",
              "49123   Cross Country Skiing Women's 10 kilometres     NaN          Greece   \n",
              "124838                 Snowboarding Men's Halfpipe     NaN         Finland   \n",
              "96540     Cross Country Skiing Men's 50 kilometres     NaN          Norway   \n",
              "\n",
              "        Obs  \n",
              "101087  NaN  \n",
              "251056  NaN  \n",
              "27788   NaN  \n",
              "251055  NaN  \n",
              "103975  NaN  \n",
              "...     ...  \n",
              "137367  NaN  \n",
              "105422  NaN  \n",
              "49123   NaN  \n",
              "124838  NaN  \n",
              "96540   NaN  \n",
              "\n",
              "[206152 rows x 17 columns]"
            ],
            "text/html": [
              "\n",
              "  <div id=\"df-c1714ecd-b84d-4b09-b8dd-995e93ed5966\" class=\"colab-df-container\">\n",
              "    <div>\n",
              "<style scoped>\n",
              "    .dataframe tbody tr th:only-of-type {\n",
              "        vertical-align: middle;\n",
              "    }\n",
              "\n",
              "    .dataframe tbody tr th {\n",
              "        vertical-align: top;\n",
              "    }\n",
              "\n",
              "    .dataframe thead th {\n",
              "        text-align: right;\n",
              "    }\n",
              "</style>\n",
              "<table border=\"1\" class=\"dataframe\">\n",
              "  <thead>\n",
              "    <tr style=\"text-align: right;\">\n",
              "      <th></th>\n",
              "      <th>ID</th>\n",
              "      <th>Nome</th>\n",
              "      <th>Sexo</th>\n",
              "      <th>Idade</th>\n",
              "      <th>Altura</th>\n",
              "      <th>Peso</th>\n",
              "      <th>Time</th>\n",
              "      <th>Sigla</th>\n",
              "      <th>Jogo</th>\n",
              "      <th>Ano</th>\n",
              "      <th>Temporada</th>\n",
              "      <th>cidade</th>\n",
              "      <th>Esporte</th>\n",
              "      <th>Evento</th>\n",
              "      <th>Medalha</th>\n",
              "      <th>Pais</th>\n",
              "      <th>Obs</th>\n",
              "    </tr>\n",
              "  </thead>\n",
              "  <tbody>\n",
              "    <tr>\n",
              "      <th>101087</th>\n",
              "      <td>51116</td>\n",
              "      <td>Hur Seung-Wook</td>\n",
              "      <td>M</td>\n",
              "      <td>19.0</td>\n",
              "      <td>173.0</td>\n",
              "      <td>89.0</td>\n",
              "      <td>South Korea</td>\n",
              "      <td>KOR</td>\n",
              "      <td>1992 Winter</td>\n",
              "      <td>1992</td>\n",
              "      <td>Winter</td>\n",
              "      <td>Albertville</td>\n",
              "      <td>Alpine Skiing</td>\n",
              "      <td>Alpine Skiing Men's Slalom</td>\n",
              "      <td>NaN</td>\n",
              "      <td>South Korea</td>\n",
              "      <td>NaN</td>\n",
              "    </tr>\n",
              "    <tr>\n",
              "      <th>251056</th>\n",
              "      <td>125746</td>\n",
              "      <td>Bart Veldkamp</td>\n",
              "      <td>M</td>\n",
              "      <td>24.0</td>\n",
              "      <td>181.0</td>\n",
              "      <td>84.0</td>\n",
              "      <td>Netherlands</td>\n",
              "      <td>NED</td>\n",
              "      <td>1992 Winter</td>\n",
              "      <td>1992</td>\n",
              "      <td>Winter</td>\n",
              "      <td>Albertville</td>\n",
              "      <td>Speed Skating</td>\n",
              "      <td>Speed Skating Men's 5,000 metres</td>\n",
              "      <td>NaN</td>\n",
              "      <td>Netherlands</td>\n",
              "      <td>NaN</td>\n",
              "    </tr>\n",
              "    <tr>\n",
              "      <th>27788</th>\n",
              "      <td>14419</td>\n",
              "      <td>Philippe Bozon</td>\n",
              "      <td>M</td>\n",
              "      <td>25.0</td>\n",
              "      <td>180.0</td>\n",
              "      <td>87.0</td>\n",
              "      <td>France</td>\n",
              "      <td>FRA</td>\n",
              "      <td>1992 Winter</td>\n",
              "      <td>1992</td>\n",
              "      <td>Winter</td>\n",
              "      <td>Albertville</td>\n",
              "      <td>Ice Hockey</td>\n",
              "      <td>Ice Hockey Men's Ice Hockey</td>\n",
              "      <td>NaN</td>\n",
              "      <td>France</td>\n",
              "      <td>NaN</td>\n",
              "    </tr>\n",
              "    <tr>\n",
              "      <th>251055</th>\n",
              "      <td>125746</td>\n",
              "      <td>Bart Veldkamp</td>\n",
              "      <td>M</td>\n",
              "      <td>24.0</td>\n",
              "      <td>181.0</td>\n",
              "      <td>84.0</td>\n",
              "      <td>Netherlands</td>\n",
              "      <td>NED</td>\n",
              "      <td>1992 Winter</td>\n",
              "      <td>1992</td>\n",
              "      <td>Winter</td>\n",
              "      <td>Albertville</td>\n",
              "      <td>Speed Skating</td>\n",
              "      <td>Speed Skating Men's 1,500 metres</td>\n",
              "      <td>NaN</td>\n",
              "      <td>Netherlands</td>\n",
              "      <td>NaN</td>\n",
              "    </tr>\n",
              "    <tr>\n",
              "      <th>103975</th>\n",
              "      <td>52617</td>\n",
              "      <td>Jari Olavi Isomets</td>\n",
              "      <td>M</td>\n",
              "      <td>23.0</td>\n",
              "      <td>175.0</td>\n",
              "      <td>64.0</td>\n",
              "      <td>Finland</td>\n",
              "      <td>FIN</td>\n",
              "      <td>1992 Winter</td>\n",
              "      <td>1992</td>\n",
              "      <td>Winter</td>\n",
              "      <td>Albertville</td>\n",
              "      <td>Cross Country Skiing</td>\n",
              "      <td>Cross Country Skiing Men's 10 kilometres</td>\n",
              "      <td>NaN</td>\n",
              "      <td>Finland</td>\n",
              "      <td>NaN</td>\n",
              "    </tr>\n",
              "    <tr>\n",
              "      <th>...</th>\n",
              "      <td>...</td>\n",
              "      <td>...</td>\n",
              "      <td>...</td>\n",
              "      <td>...</td>\n",
              "      <td>...</td>\n",
              "      <td>...</td>\n",
              "      <td>...</td>\n",
              "      <td>...</td>\n",
              "      <td>...</td>\n",
              "      <td>...</td>\n",
              "      <td>...</td>\n",
              "      <td>...</td>\n",
              "      <td>...</td>\n",
              "      <td>...</td>\n",
              "      <td>...</td>\n",
              "      <td>...</td>\n",
              "      <td>...</td>\n",
              "    </tr>\n",
              "    <tr>\n",
              "      <th>137367</th>\n",
              "      <td>69058</td>\n",
              "      <td>Evelyne Leu</td>\n",
              "      <td>F</td>\n",
              "      <td>33.0</td>\n",
              "      <td>167.0</td>\n",
              "      <td>62.0</td>\n",
              "      <td>Switzerland</td>\n",
              "      <td>SUI</td>\n",
              "      <td>2010 Winter</td>\n",
              "      <td>2010</td>\n",
              "      <td>Winter</td>\n",
              "      <td>Vancouver</td>\n",
              "      <td>Freestyle Skiing</td>\n",
              "      <td>Freestyle Skiing Women's Aerials</td>\n",
              "      <td>NaN</td>\n",
              "      <td>Switzerland</td>\n",
              "      <td>NaN</td>\n",
              "    </tr>\n",
              "    <tr>\n",
              "      <th>105422</th>\n",
              "      <td>53325</td>\n",
              "      <td>Jaromr Jgr</td>\n",
              "      <td>M</td>\n",
              "      <td>37.0</td>\n",
              "      <td>189.0</td>\n",
              "      <td>102.0</td>\n",
              "      <td>Czech Republic</td>\n",
              "      <td>CZE</td>\n",
              "      <td>2010 Winter</td>\n",
              "      <td>2010</td>\n",
              "      <td>Winter</td>\n",
              "      <td>Vancouver</td>\n",
              "      <td>Ice Hockey</td>\n",
              "      <td>Ice Hockey Men's Ice Hockey</td>\n",
              "      <td>NaN</td>\n",
              "      <td>Czech Republic</td>\n",
              "      <td>NaN</td>\n",
              "    </tr>\n",
              "    <tr>\n",
              "      <th>49123</th>\n",
              "      <td>25296</td>\n",
              "      <td>Maria Danou</td>\n",
              "      <td>F</td>\n",
              "      <td>19.0</td>\n",
              "      <td>168.0</td>\n",
              "      <td>52.0</td>\n",
              "      <td>Greece</td>\n",
              "      <td>GRE</td>\n",
              "      <td>2010 Winter</td>\n",
              "      <td>2010</td>\n",
              "      <td>Winter</td>\n",
              "      <td>Vancouver</td>\n",
              "      <td>Cross Country Skiing</td>\n",
              "      <td>Cross Country Skiing Women's 10 kilometres</td>\n",
              "      <td>NaN</td>\n",
              "      <td>Greece</td>\n",
              "      <td>NaN</td>\n",
              "    </tr>\n",
              "    <tr>\n",
              "      <th>124838</th>\n",
              "      <td>63019</td>\n",
              "      <td>Markku Olavi Koski</td>\n",
              "      <td>M</td>\n",
              "      <td>28.0</td>\n",
              "      <td>181.0</td>\n",
              "      <td>73.0</td>\n",
              "      <td>Finland</td>\n",
              "      <td>FIN</td>\n",
              "      <td>2010 Winter</td>\n",
              "      <td>2010</td>\n",
              "      <td>Winter</td>\n",
              "      <td>Vancouver</td>\n",
              "      <td>Snowboarding</td>\n",
              "      <td>Snowboarding Men's Halfpipe</td>\n",
              "      <td>NaN</td>\n",
              "      <td>Finland</td>\n",
              "      <td>NaN</td>\n",
              "    </tr>\n",
              "    <tr>\n",
              "      <th>96540</th>\n",
              "      <td>48877</td>\n",
              "      <td>Odd-Bjrn Hjelmeset</td>\n",
              "      <td>M</td>\n",
              "      <td>38.0</td>\n",
              "      <td>180.0</td>\n",
              "      <td>69.0</td>\n",
              "      <td>Norway</td>\n",
              "      <td>NOR</td>\n",
              "      <td>2010 Winter</td>\n",
              "      <td>2010</td>\n",
              "      <td>Winter</td>\n",
              "      <td>Vancouver</td>\n",
              "      <td>Cross Country Skiing</td>\n",
              "      <td>Cross Country Skiing Men's 50 kilometres</td>\n",
              "      <td>NaN</td>\n",
              "      <td>Norway</td>\n",
              "      <td>NaN</td>\n",
              "    </tr>\n",
              "  </tbody>\n",
              "</table>\n",
              "<p>206152 rows × 17 columns</p>\n",
              "</div>\n",
              "    <div class=\"colab-df-buttons\">\n",
              "\n",
              "  <div class=\"colab-df-container\">\n",
              "    <button class=\"colab-df-convert\" onclick=\"convertToInteractive('df-c1714ecd-b84d-4b09-b8dd-995e93ed5966')\"\n",
              "            title=\"Convert this dataframe to an interactive table.\"\n",
              "            style=\"display:none;\">\n",
              "\n",
              "  <svg xmlns=\"http://www.w3.org/2000/svg\" height=\"24px\" viewBox=\"0 -960 960 960\">\n",
              "    <path d=\"M120-120v-720h720v720H120Zm60-500h600v-160H180v160Zm220 220h160v-160H400v160Zm0 220h160v-160H400v160ZM180-400h160v-160H180v160Zm440 0h160v-160H620v160ZM180-180h160v-160H180v160Zm440 0h160v-160H620v160Z\"/>\n",
              "  </svg>\n",
              "    </button>\n",
              "\n",
              "  <style>\n",
              "    .colab-df-container {\n",
              "      display:flex;\n",
              "      gap: 12px;\n",
              "    }\n",
              "\n",
              "    .colab-df-convert {\n",
              "      background-color: #E8F0FE;\n",
              "      border: none;\n",
              "      border-radius: 50%;\n",
              "      cursor: pointer;\n",
              "      display: none;\n",
              "      fill: #1967D2;\n",
              "      height: 32px;\n",
              "      padding: 0 0 0 0;\n",
              "      width: 32px;\n",
              "    }\n",
              "\n",
              "    .colab-df-convert:hover {\n",
              "      background-color: #E2EBFA;\n",
              "      box-shadow: 0px 1px 2px rgba(60, 64, 67, 0.3), 0px 1px 3px 1px rgba(60, 64, 67, 0.15);\n",
              "      fill: #174EA6;\n",
              "    }\n",
              "\n",
              "    .colab-df-buttons div {\n",
              "      margin-bottom: 4px;\n",
              "    }\n",
              "\n",
              "    [theme=dark] .colab-df-convert {\n",
              "      background-color: #3B4455;\n",
              "      fill: #D2E3FC;\n",
              "    }\n",
              "\n",
              "    [theme=dark] .colab-df-convert:hover {\n",
              "      background-color: #434B5C;\n",
              "      box-shadow: 0px 1px 3px 1px rgba(0, 0, 0, 0.15);\n",
              "      filter: drop-shadow(0px 1px 2px rgba(0, 0, 0, 0.3));\n",
              "      fill: #FFFFFF;\n",
              "    }\n",
              "  </style>\n",
              "\n",
              "    <script>\n",
              "      const buttonEl =\n",
              "        document.querySelector('#df-c1714ecd-b84d-4b09-b8dd-995e93ed5966 button.colab-df-convert');\n",
              "      buttonEl.style.display =\n",
              "        google.colab.kernel.accessAllowed ? 'block' : 'none';\n",
              "\n",
              "      async function convertToInteractive(key) {\n",
              "        const element = document.querySelector('#df-c1714ecd-b84d-4b09-b8dd-995e93ed5966');\n",
              "        const dataTable =\n",
              "          await google.colab.kernel.invokeFunction('convertToInteractive',\n",
              "                                                    [key], {});\n",
              "        if (!dataTable) return;\n",
              "\n",
              "        const docLinkHtml = 'Like what you see? Visit the ' +\n",
              "          '<a target=\"_blank\" href=https://colab.research.google.com/notebooks/data_table.ipynb>data table notebook</a>'\n",
              "          + ' to learn more about interactive tables.';\n",
              "        element.innerHTML = '';\n",
              "        dataTable['output_type'] = 'display_data';\n",
              "        await google.colab.output.renderOutput(dataTable, element);\n",
              "        const docLink = document.createElement('div');\n",
              "        docLink.innerHTML = docLinkHtml;\n",
              "        element.appendChild(docLink);\n",
              "      }\n",
              "    </script>\n",
              "  </div>\n",
              "\n",
              "\n",
              "<div id=\"df-34069a14-1473-441d-9d72-ff1069e3fb93\">\n",
              "  <button class=\"colab-df-quickchart\" onclick=\"quickchart('df-34069a14-1473-441d-9d72-ff1069e3fb93')\"\n",
              "            title=\"Suggest charts\"\n",
              "            style=\"display:none;\">\n",
              "\n",
              "<svg xmlns=\"http://www.w3.org/2000/svg\" height=\"24px\"viewBox=\"0 0 24 24\"\n",
              "     width=\"24px\">\n",
              "    <g>\n",
              "        <path d=\"M19 3H5c-1.1 0-2 .9-2 2v14c0 1.1.9 2 2 2h14c1.1 0 2-.9 2-2V5c0-1.1-.9-2-2-2zM9 17H7v-7h2v7zm4 0h-2V7h2v10zm4 0h-2v-4h2v4z\"/>\n",
              "    </g>\n",
              "</svg>\n",
              "  </button>\n",
              "\n",
              "<style>\n",
              "  .colab-df-quickchart {\n",
              "      --bg-color: #E8F0FE;\n",
              "      --fill-color: #1967D2;\n",
              "      --hover-bg-color: #E2EBFA;\n",
              "      --hover-fill-color: #174EA6;\n",
              "      --disabled-fill-color: #AAA;\n",
              "      --disabled-bg-color: #DDD;\n",
              "  }\n",
              "\n",
              "  [theme=dark] .colab-df-quickchart {\n",
              "      --bg-color: #3B4455;\n",
              "      --fill-color: #D2E3FC;\n",
              "      --hover-bg-color: #434B5C;\n",
              "      --hover-fill-color: #FFFFFF;\n",
              "      --disabled-bg-color: #3B4455;\n",
              "      --disabled-fill-color: #666;\n",
              "  }\n",
              "\n",
              "  .colab-df-quickchart {\n",
              "    background-color: var(--bg-color);\n",
              "    border: none;\n",
              "    border-radius: 50%;\n",
              "    cursor: pointer;\n",
              "    display: none;\n",
              "    fill: var(--fill-color);\n",
              "    height: 32px;\n",
              "    padding: 0;\n",
              "    width: 32px;\n",
              "  }\n",
              "\n",
              "  .colab-df-quickchart:hover {\n",
              "    background-color: var(--hover-bg-color);\n",
              "    box-shadow: 0 1px 2px rgba(60, 64, 67, 0.3), 0 1px 3px 1px rgba(60, 64, 67, 0.15);\n",
              "    fill: var(--button-hover-fill-color);\n",
              "  }\n",
              "\n",
              "  .colab-df-quickchart-complete:disabled,\n",
              "  .colab-df-quickchart-complete:disabled:hover {\n",
              "    background-color: var(--disabled-bg-color);\n",
              "    fill: var(--disabled-fill-color);\n",
              "    box-shadow: none;\n",
              "  }\n",
              "\n",
              "  .colab-df-spinner {\n",
              "    border: 2px solid var(--fill-color);\n",
              "    border-color: transparent;\n",
              "    border-bottom-color: var(--fill-color);\n",
              "    animation:\n",
              "      spin 1s steps(1) infinite;\n",
              "  }\n",
              "\n",
              "  @keyframes spin {\n",
              "    0% {\n",
              "      border-color: transparent;\n",
              "      border-bottom-color: var(--fill-color);\n",
              "      border-left-color: var(--fill-color);\n",
              "    }\n",
              "    20% {\n",
              "      border-color: transparent;\n",
              "      border-left-color: var(--fill-color);\n",
              "      border-top-color: var(--fill-color);\n",
              "    }\n",
              "    30% {\n",
              "      border-color: transparent;\n",
              "      border-left-color: var(--fill-color);\n",
              "      border-top-color: var(--fill-color);\n",
              "      border-right-color: var(--fill-color);\n",
              "    }\n",
              "    40% {\n",
              "      border-color: transparent;\n",
              "      border-right-color: var(--fill-color);\n",
              "      border-top-color: var(--fill-color);\n",
              "    }\n",
              "    60% {\n",
              "      border-color: transparent;\n",
              "      border-right-color: var(--fill-color);\n",
              "    }\n",
              "    80% {\n",
              "      border-color: transparent;\n",
              "      border-right-color: var(--fill-color);\n",
              "      border-bottom-color: var(--fill-color);\n",
              "    }\n",
              "    90% {\n",
              "      border-color: transparent;\n",
              "      border-bottom-color: var(--fill-color);\n",
              "    }\n",
              "  }\n",
              "</style>\n",
              "\n",
              "  <script>\n",
              "    async function quickchart(key) {\n",
              "      const quickchartButtonEl =\n",
              "        document.querySelector('#' + key + ' button');\n",
              "      quickchartButtonEl.disabled = true;  // To prevent multiple clicks.\n",
              "      quickchartButtonEl.classList.add('colab-df-spinner');\n",
              "      try {\n",
              "        const charts = await google.colab.kernel.invokeFunction(\n",
              "            'suggestCharts', [key], {});\n",
              "      } catch (error) {\n",
              "        console.error('Error during call to suggestCharts:', error);\n",
              "      }\n",
              "      quickchartButtonEl.classList.remove('colab-df-spinner');\n",
              "      quickchartButtonEl.classList.add('colab-df-quickchart-complete');\n",
              "    }\n",
              "    (() => {\n",
              "      let quickchartButtonEl =\n",
              "        document.querySelector('#df-34069a14-1473-441d-9d72-ff1069e3fb93 button');\n",
              "      quickchartButtonEl.style.display =\n",
              "        google.colab.kernel.accessAllowed ? 'block' : 'none';\n",
              "    })();\n",
              "  </script>\n",
              "</div>\n",
              "\n",
              "    </div>\n",
              "  </div>\n"
            ]
          },
          "metadata": {},
          "execution_count": 23
        }
      ]
    },
    {
      "cell_type": "markdown",
      "source": [
        "SUBSTITUINDO STRINGS"
      ],
      "metadata": {
        "id": "JqEMB5SSHEDq"
      }
    },
    {
      "cell_type": "code",
      "source": [],
      "metadata": {
        "id": "cuMiB9PvHBWf"
      },
      "execution_count": null,
      "outputs": []
    },
    {
      "cell_type": "code",
      "source": [
        "olim['Temporada'] = olim['Temporada'].str.replace('Summer', 'Verão')"
      ],
      "metadata": {
        "id": "pgdc7NgvRH7t"
      },
      "execution_count": 24,
      "outputs": []
    },
    {
      "cell_type": "code",
      "source": [
        "olim['Temporada'] = olim['Temporada'].str.replace('Winter', 'Inverno')"
      ],
      "metadata": {
        "id": "AAh0Pgg5ILUc"
      },
      "execution_count": 26,
      "outputs": []
    },
    {
      "cell_type": "code",
      "source": [
        "olim['Temporada'] = olim['Temporada'].str.replace('Autumn', 'Outono')"
      ],
      "metadata": {
        "id": "fRg86WZNIPr3"
      },
      "execution_count": 27,
      "outputs": []
    },
    {
      "cell_type": "code",
      "source": [
        "olim['Temporada'] = olim['Temporada'].str.replace('Spring', 'Primavera')"
      ],
      "metadata": {
        "id": "Jh_n_glXIv12"
      },
      "execution_count": 28,
      "outputs": []
    },
    {
      "cell_type": "code",
      "source": [
        "olim.head()"
      ],
      "metadata": {
        "colab": {
          "base_uri": "https://localhost:8080/",
          "height": 487
        },
        "id": "Vu7vWxwII3K-",
        "outputId": "f501dda0-e071-4a60-dc4e-747a5fa69c52"
      },
      "execution_count": 29,
      "outputs": [
        {
          "output_type": "execute_result",
          "data": {
            "text/plain": [
              "   ID                      Nome Sexo  Idade  Altura  Peso         Time Sigla  \\\n",
              "0   1                 A Dijiang    M   24.0   180.0  80.0        China   CHN   \n",
              "1   2                  A Lamusi    M   23.0   170.0  60.0        China   CHN   \n",
              "4   5  Christine Jacoba Aaftink    F   21.0   185.0  82.0  Netherlands   NED   \n",
              "5   5  Christine Jacoba Aaftink    F   21.0   185.0  82.0  Netherlands   NED   \n",
              "6   5  Christine Jacoba Aaftink    F   25.0   185.0  82.0  Netherlands   NED   \n",
              "\n",
              "          Jogo   Ano Temporada       cidade        Esporte  \\\n",
              "0  1992 Summer  1992     Verão    Barcelona     Basketball   \n",
              "1  2012 Summer  2012     Verão       London           Judo   \n",
              "4  1988 Winter  1988   Inverno      Calgary  Speed Skating   \n",
              "5  1988 Winter  1988   Inverno      Calgary  Speed Skating   \n",
              "6  1992 Winter  1992   Inverno  Albertville  Speed Skating   \n",
              "\n",
              "                               Evento Medalha         Pais  Obs  \n",
              "0         Basketball Men's Basketball     NaN        China  NaN  \n",
              "1        Judo Men's Extra-Lightweight     NaN        China  NaN  \n",
              "4    Speed Skating Women's 500 metres     NaN  Netherlands  NaN  \n",
              "5  Speed Skating Women's 1,000 metres     NaN  Netherlands  NaN  \n",
              "6    Speed Skating Women's 500 metres     NaN  Netherlands  NaN  "
            ],
            "text/html": [
              "\n",
              "  <div id=\"df-112250ca-f37e-44ac-a0f5-c3e6cacdc155\" class=\"colab-df-container\">\n",
              "    <div>\n",
              "<style scoped>\n",
              "    .dataframe tbody tr th:only-of-type {\n",
              "        vertical-align: middle;\n",
              "    }\n",
              "\n",
              "    .dataframe tbody tr th {\n",
              "        vertical-align: top;\n",
              "    }\n",
              "\n",
              "    .dataframe thead th {\n",
              "        text-align: right;\n",
              "    }\n",
              "</style>\n",
              "<table border=\"1\" class=\"dataframe\">\n",
              "  <thead>\n",
              "    <tr style=\"text-align: right;\">\n",
              "      <th></th>\n",
              "      <th>ID</th>\n",
              "      <th>Nome</th>\n",
              "      <th>Sexo</th>\n",
              "      <th>Idade</th>\n",
              "      <th>Altura</th>\n",
              "      <th>Peso</th>\n",
              "      <th>Time</th>\n",
              "      <th>Sigla</th>\n",
              "      <th>Jogo</th>\n",
              "      <th>Ano</th>\n",
              "      <th>Temporada</th>\n",
              "      <th>cidade</th>\n",
              "      <th>Esporte</th>\n",
              "      <th>Evento</th>\n",
              "      <th>Medalha</th>\n",
              "      <th>Pais</th>\n",
              "      <th>Obs</th>\n",
              "    </tr>\n",
              "  </thead>\n",
              "  <tbody>\n",
              "    <tr>\n",
              "      <th>0</th>\n",
              "      <td>1</td>\n",
              "      <td>A Dijiang</td>\n",
              "      <td>M</td>\n",
              "      <td>24.0</td>\n",
              "      <td>180.0</td>\n",
              "      <td>80.0</td>\n",
              "      <td>China</td>\n",
              "      <td>CHN</td>\n",
              "      <td>1992 Summer</td>\n",
              "      <td>1992</td>\n",
              "      <td>Verão</td>\n",
              "      <td>Barcelona</td>\n",
              "      <td>Basketball</td>\n",
              "      <td>Basketball Men's Basketball</td>\n",
              "      <td>NaN</td>\n",
              "      <td>China</td>\n",
              "      <td>NaN</td>\n",
              "    </tr>\n",
              "    <tr>\n",
              "      <th>1</th>\n",
              "      <td>2</td>\n",
              "      <td>A Lamusi</td>\n",
              "      <td>M</td>\n",
              "      <td>23.0</td>\n",
              "      <td>170.0</td>\n",
              "      <td>60.0</td>\n",
              "      <td>China</td>\n",
              "      <td>CHN</td>\n",
              "      <td>2012 Summer</td>\n",
              "      <td>2012</td>\n",
              "      <td>Verão</td>\n",
              "      <td>London</td>\n",
              "      <td>Judo</td>\n",
              "      <td>Judo Men's Extra-Lightweight</td>\n",
              "      <td>NaN</td>\n",
              "      <td>China</td>\n",
              "      <td>NaN</td>\n",
              "    </tr>\n",
              "    <tr>\n",
              "      <th>4</th>\n",
              "      <td>5</td>\n",
              "      <td>Christine Jacoba Aaftink</td>\n",
              "      <td>F</td>\n",
              "      <td>21.0</td>\n",
              "      <td>185.0</td>\n",
              "      <td>82.0</td>\n",
              "      <td>Netherlands</td>\n",
              "      <td>NED</td>\n",
              "      <td>1988 Winter</td>\n",
              "      <td>1988</td>\n",
              "      <td>Inverno</td>\n",
              "      <td>Calgary</td>\n",
              "      <td>Speed Skating</td>\n",
              "      <td>Speed Skating Women's 500 metres</td>\n",
              "      <td>NaN</td>\n",
              "      <td>Netherlands</td>\n",
              "      <td>NaN</td>\n",
              "    </tr>\n",
              "    <tr>\n",
              "      <th>5</th>\n",
              "      <td>5</td>\n",
              "      <td>Christine Jacoba Aaftink</td>\n",
              "      <td>F</td>\n",
              "      <td>21.0</td>\n",
              "      <td>185.0</td>\n",
              "      <td>82.0</td>\n",
              "      <td>Netherlands</td>\n",
              "      <td>NED</td>\n",
              "      <td>1988 Winter</td>\n",
              "      <td>1988</td>\n",
              "      <td>Inverno</td>\n",
              "      <td>Calgary</td>\n",
              "      <td>Speed Skating</td>\n",
              "      <td>Speed Skating Women's 1,000 metres</td>\n",
              "      <td>NaN</td>\n",
              "      <td>Netherlands</td>\n",
              "      <td>NaN</td>\n",
              "    </tr>\n",
              "    <tr>\n",
              "      <th>6</th>\n",
              "      <td>5</td>\n",
              "      <td>Christine Jacoba Aaftink</td>\n",
              "      <td>F</td>\n",
              "      <td>25.0</td>\n",
              "      <td>185.0</td>\n",
              "      <td>82.0</td>\n",
              "      <td>Netherlands</td>\n",
              "      <td>NED</td>\n",
              "      <td>1992 Winter</td>\n",
              "      <td>1992</td>\n",
              "      <td>Inverno</td>\n",
              "      <td>Albertville</td>\n",
              "      <td>Speed Skating</td>\n",
              "      <td>Speed Skating Women's 500 metres</td>\n",
              "      <td>NaN</td>\n",
              "      <td>Netherlands</td>\n",
              "      <td>NaN</td>\n",
              "    </tr>\n",
              "  </tbody>\n",
              "</table>\n",
              "</div>\n",
              "    <div class=\"colab-df-buttons\">\n",
              "\n",
              "  <div class=\"colab-df-container\">\n",
              "    <button class=\"colab-df-convert\" onclick=\"convertToInteractive('df-112250ca-f37e-44ac-a0f5-c3e6cacdc155')\"\n",
              "            title=\"Convert this dataframe to an interactive table.\"\n",
              "            style=\"display:none;\">\n",
              "\n",
              "  <svg xmlns=\"http://www.w3.org/2000/svg\" height=\"24px\" viewBox=\"0 -960 960 960\">\n",
              "    <path d=\"M120-120v-720h720v720H120Zm60-500h600v-160H180v160Zm220 220h160v-160H400v160Zm0 220h160v-160H400v160ZM180-400h160v-160H180v160Zm440 0h160v-160H620v160ZM180-180h160v-160H180v160Zm440 0h160v-160H620v160Z\"/>\n",
              "  </svg>\n",
              "    </button>\n",
              "\n",
              "  <style>\n",
              "    .colab-df-container {\n",
              "      display:flex;\n",
              "      gap: 12px;\n",
              "    }\n",
              "\n",
              "    .colab-df-convert {\n",
              "      background-color: #E8F0FE;\n",
              "      border: none;\n",
              "      border-radius: 50%;\n",
              "      cursor: pointer;\n",
              "      display: none;\n",
              "      fill: #1967D2;\n",
              "      height: 32px;\n",
              "      padding: 0 0 0 0;\n",
              "      width: 32px;\n",
              "    }\n",
              "\n",
              "    .colab-df-convert:hover {\n",
              "      background-color: #E2EBFA;\n",
              "      box-shadow: 0px 1px 2px rgba(60, 64, 67, 0.3), 0px 1px 3px 1px rgba(60, 64, 67, 0.15);\n",
              "      fill: #174EA6;\n",
              "    }\n",
              "\n",
              "    .colab-df-buttons div {\n",
              "      margin-bottom: 4px;\n",
              "    }\n",
              "\n",
              "    [theme=dark] .colab-df-convert {\n",
              "      background-color: #3B4455;\n",
              "      fill: #D2E3FC;\n",
              "    }\n",
              "\n",
              "    [theme=dark] .colab-df-convert:hover {\n",
              "      background-color: #434B5C;\n",
              "      box-shadow: 0px 1px 3px 1px rgba(0, 0, 0, 0.15);\n",
              "      filter: drop-shadow(0px 1px 2px rgba(0, 0, 0, 0.3));\n",
              "      fill: #FFFFFF;\n",
              "    }\n",
              "  </style>\n",
              "\n",
              "    <script>\n",
              "      const buttonEl =\n",
              "        document.querySelector('#df-112250ca-f37e-44ac-a0f5-c3e6cacdc155 button.colab-df-convert');\n",
              "      buttonEl.style.display =\n",
              "        google.colab.kernel.accessAllowed ? 'block' : 'none';\n",
              "\n",
              "      async function convertToInteractive(key) {\n",
              "        const element = document.querySelector('#df-112250ca-f37e-44ac-a0f5-c3e6cacdc155');\n",
              "        const dataTable =\n",
              "          await google.colab.kernel.invokeFunction('convertToInteractive',\n",
              "                                                    [key], {});\n",
              "        if (!dataTable) return;\n",
              "\n",
              "        const docLinkHtml = 'Like what you see? Visit the ' +\n",
              "          '<a target=\"_blank\" href=https://colab.research.google.com/notebooks/data_table.ipynb>data table notebook</a>'\n",
              "          + ' to learn more about interactive tables.';\n",
              "        element.innerHTML = '';\n",
              "        dataTable['output_type'] = 'display_data';\n",
              "        await google.colab.output.renderOutput(dataTable, element);\n",
              "        const docLink = document.createElement('div');\n",
              "        docLink.innerHTML = docLinkHtml;\n",
              "        element.appendChild(docLink);\n",
              "      }\n",
              "    </script>\n",
              "  </div>\n",
              "\n",
              "\n",
              "<div id=\"df-392baa96-aafd-46b0-aad6-fb4eb616c35d\">\n",
              "  <button class=\"colab-df-quickchart\" onclick=\"quickchart('df-392baa96-aafd-46b0-aad6-fb4eb616c35d')\"\n",
              "            title=\"Suggest charts\"\n",
              "            style=\"display:none;\">\n",
              "\n",
              "<svg xmlns=\"http://www.w3.org/2000/svg\" height=\"24px\"viewBox=\"0 0 24 24\"\n",
              "     width=\"24px\">\n",
              "    <g>\n",
              "        <path d=\"M19 3H5c-1.1 0-2 .9-2 2v14c0 1.1.9 2 2 2h14c1.1 0 2-.9 2-2V5c0-1.1-.9-2-2-2zM9 17H7v-7h2v7zm4 0h-2V7h2v10zm4 0h-2v-4h2v4z\"/>\n",
              "    </g>\n",
              "</svg>\n",
              "  </button>\n",
              "\n",
              "<style>\n",
              "  .colab-df-quickchart {\n",
              "      --bg-color: #E8F0FE;\n",
              "      --fill-color: #1967D2;\n",
              "      --hover-bg-color: #E2EBFA;\n",
              "      --hover-fill-color: #174EA6;\n",
              "      --disabled-fill-color: #AAA;\n",
              "      --disabled-bg-color: #DDD;\n",
              "  }\n",
              "\n",
              "  [theme=dark] .colab-df-quickchart {\n",
              "      --bg-color: #3B4455;\n",
              "      --fill-color: #D2E3FC;\n",
              "      --hover-bg-color: #434B5C;\n",
              "      --hover-fill-color: #FFFFFF;\n",
              "      --disabled-bg-color: #3B4455;\n",
              "      --disabled-fill-color: #666;\n",
              "  }\n",
              "\n",
              "  .colab-df-quickchart {\n",
              "    background-color: var(--bg-color);\n",
              "    border: none;\n",
              "    border-radius: 50%;\n",
              "    cursor: pointer;\n",
              "    display: none;\n",
              "    fill: var(--fill-color);\n",
              "    height: 32px;\n",
              "    padding: 0;\n",
              "    width: 32px;\n",
              "  }\n",
              "\n",
              "  .colab-df-quickchart:hover {\n",
              "    background-color: var(--hover-bg-color);\n",
              "    box-shadow: 0 1px 2px rgba(60, 64, 67, 0.3), 0 1px 3px 1px rgba(60, 64, 67, 0.15);\n",
              "    fill: var(--button-hover-fill-color);\n",
              "  }\n",
              "\n",
              "  .colab-df-quickchart-complete:disabled,\n",
              "  .colab-df-quickchart-complete:disabled:hover {\n",
              "    background-color: var(--disabled-bg-color);\n",
              "    fill: var(--disabled-fill-color);\n",
              "    box-shadow: none;\n",
              "  }\n",
              "\n",
              "  .colab-df-spinner {\n",
              "    border: 2px solid var(--fill-color);\n",
              "    border-color: transparent;\n",
              "    border-bottom-color: var(--fill-color);\n",
              "    animation:\n",
              "      spin 1s steps(1) infinite;\n",
              "  }\n",
              "\n",
              "  @keyframes spin {\n",
              "    0% {\n",
              "      border-color: transparent;\n",
              "      border-bottom-color: var(--fill-color);\n",
              "      border-left-color: var(--fill-color);\n",
              "    }\n",
              "    20% {\n",
              "      border-color: transparent;\n",
              "      border-left-color: var(--fill-color);\n",
              "      border-top-color: var(--fill-color);\n",
              "    }\n",
              "    30% {\n",
              "      border-color: transparent;\n",
              "      border-left-color: var(--fill-color);\n",
              "      border-top-color: var(--fill-color);\n",
              "      border-right-color: var(--fill-color);\n",
              "    }\n",
              "    40% {\n",
              "      border-color: transparent;\n",
              "      border-right-color: var(--fill-color);\n",
              "      border-top-color: var(--fill-color);\n",
              "    }\n",
              "    60% {\n",
              "      border-color: transparent;\n",
              "      border-right-color: var(--fill-color);\n",
              "    }\n",
              "    80% {\n",
              "      border-color: transparent;\n",
              "      border-right-color: var(--fill-color);\n",
              "      border-bottom-color: var(--fill-color);\n",
              "    }\n",
              "    90% {\n",
              "      border-color: transparent;\n",
              "      border-bottom-color: var(--fill-color);\n",
              "    }\n",
              "  }\n",
              "</style>\n",
              "\n",
              "  <script>\n",
              "    async function quickchart(key) {\n",
              "      const quickchartButtonEl =\n",
              "        document.querySelector('#' + key + ' button');\n",
              "      quickchartButtonEl.disabled = true;  // To prevent multiple clicks.\n",
              "      quickchartButtonEl.classList.add('colab-df-spinner');\n",
              "      try {\n",
              "        const charts = await google.colab.kernel.invokeFunction(\n",
              "            'suggestCharts', [key], {});\n",
              "      } catch (error) {\n",
              "        console.error('Error during call to suggestCharts:', error);\n",
              "      }\n",
              "      quickchartButtonEl.classList.remove('colab-df-spinner');\n",
              "      quickchartButtonEl.classList.add('colab-df-quickchart-complete');\n",
              "    }\n",
              "    (() => {\n",
              "      let quickchartButtonEl =\n",
              "        document.querySelector('#df-392baa96-aafd-46b0-aad6-fb4eb616c35d button');\n",
              "      quickchartButtonEl.style.display =\n",
              "        google.colab.kernel.accessAllowed ? 'block' : 'none';\n",
              "    })();\n",
              "  </script>\n",
              "</div>\n",
              "\n",
              "    </div>\n",
              "  </div>\n"
            ]
          },
          "metadata": {},
          "execution_count": 29
        }
      ]
    },
    {
      "cell_type": "code",
      "source": [],
      "metadata": {
        "id": "KxWPQEhII5MM"
      },
      "execution_count": null,
      "outputs": []
    },
    {
      "cell_type": "code",
      "source": [],
      "metadata": {
        "id": "IU4rYpl1NXKh"
      },
      "execution_count": null,
      "outputs": []
    }
  ]
}